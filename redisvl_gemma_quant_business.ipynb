{
  "cells": [
    {
      "cell_type": "markdown",
      "metadata": {
        "id": "view-in-github",
        "colab_type": "text"
      },
      "source": [
        "<a href=\"https://colab.research.google.com/github/arnavj007/startup-decision-support-system/blob/main/redisvl_gemma_quant_business.ipynb\" target=\"_parent\"><img src=\"https://colab.research.google.com/assets/colab-badge.svg\" alt=\"Open In Colab\"/></a>"
      ]
    },
    {
      "cell_type": "markdown",
      "metadata": {
        "id": "R2-i8jBl9GRH"
      },
      "source": [
        "![Redis](https://redis.com/wp-content/themes/wpx/assets/images/logo-redis.svg?auto=webp&quality=85,75&width=120)\n",
        "\n",
        "# RAG from scratch with the Redis Vector Library\n",
        "\n",
        "\n",
        "We will go through the same initial setup and data prep stage, then dive into building an **end-to-end RAG system from scratch**, including the technique:\n",
        "- Dense content representation\n",
        "\n"
      ]
    },
    {
      "cell_type": "markdown",
      "metadata": {
        "id": "rT9HzsnQ1uiz"
      },
      "source": [
        "## Environment Setup\n",
        "\n",
        "### Pull Github Materials\n",
        "For **Google Colab**, we need to first\n",
        "pull the necessary dataset and materials directly from GitHub."
      ]
    },
    {
      "cell_type": "code",
      "execution_count": null,
      "metadata": {
        "id": "AJJ2UW6M1ui0",
        "outputId": "64441ddc-52cc-4112-fcea-634bcd53513a",
        "colab": {
          "base_uri": "https://localhost:8080/",
          "height": 17
        }
      },
      "outputs": [
        {
          "output_type": "display_data",
          "data": {
            "text/plain": [
              "<IPython.core.display.HTML object>"
            ],
            "text/html": [
              "\n",
              "  <style>\n",
              "    pre {\n",
              "        white-space: pre-wrap;\n",
              "    }\n",
              "  </style>\n",
              "  "
            ]
          },
          "metadata": {}
        },
        {
          "output_type": "display_data",
          "data": {
            "text/plain": [
              "<IPython.core.display.HTML object>"
            ],
            "text/html": [
              "\n",
              "  <style>\n",
              "    pre {\n",
              "        white-space: pre-wrap;\n",
              "    }\n",
              "  </style>\n",
              "  "
            ]
          },
          "metadata": {}
        }
      ],
      "source": [
        "# This clones the supporting git repository into a directory named 'temp_repo'.\n",
        "!git clone https://github.com/arnavj007/redisvl-business.git temp_repo\n",
        "\n",
        "!mv temp_repo/requirements.txt .\n",
        "\n",
        "# This deletes the 'temp_repo' directory, cleaning up the unwanted files.\n",
        "!rm -rf temp_repo"
      ]
    },
    {
      "cell_type": "markdown",
      "source": [
        "##Setting Notebook Display Properties\n",
        "Setting notebook output cell display settings to wrap text, so generated text displays properly"
      ],
      "metadata": {
        "id": "oSiKypOh_Wxh"
      }
    },
    {
      "cell_type": "code",
      "source": [
        "from IPython.display import HTML, display\n",
        "\n",
        "def set_css():\n",
        "  display(HTML('''\n",
        "  <style>\n",
        "    pre {\n",
        "        white-space: pre-wrap;\n",
        "    }\n",
        "  </style>\n",
        "  '''))\n",
        "get_ipython().events.register('pre_run_cell', set_css)"
      ],
      "metadata": {
        "id": "dhJSjZhC7jX8"
      },
      "execution_count": null,
      "outputs": []
    },
    {
      "cell_type": "markdown",
      "metadata": {
        "id": "Z67mf6T91ui2"
      },
      "source": [
        "### Install Python Dependencies"
      ]
    },
    {
      "cell_type": "code",
      "execution_count": null,
      "metadata": {
        "id": "DgxBQFXQ1ui2",
        "outputId": "51542205-f97f-4502-b169-86a7a9727779",
        "colab": {
          "base_uri": "https://localhost:8080/",
          "height": 1000
        }
      },
      "outputs": [
        {
          "output_type": "display_data",
          "data": {
            "text/plain": [
              "<IPython.core.display.HTML object>"
            ],
            "text/html": [
              "\n",
              "  <style>\n",
              "    pre {\n",
              "        white-space: pre-wrap;\n",
              "    }\n",
              "  </style>\n",
              "  "
            ]
          },
          "metadata": {}
        },
        {
          "output_type": "stream",
          "name": "stdout",
          "text": [
            "Requirement already satisfied: pandas in /usr/local/lib/python3.10/dist-packages (from -r requirements.txt (line 1)) (2.2.2)\n",
            "Requirement already satisfied: tiktoken in /usr/local/lib/python3.10/dist-packages (from -r requirements.txt (line 2)) (0.8.0)\n",
            "Requirement already satisfied: langchain in /usr/local/lib/python3.10/dist-packages (from -r requirements.txt (line 3)) (0.3.7)\n",
            "Requirement already satisfied: sentence-transformers in /usr/local/lib/python3.10/dist-packages (from -r requirements.txt (line 4)) (3.1.1)\n",
            "Requirement already satisfied: redisvl>=0.1.0 in /usr/local/lib/python3.10/dist-packages (from -r requirements.txt (line 5)) (0.3.6)\n",
            "Requirement already satisfied: bitsandbytes==0.42.0 in /usr/local/lib/python3.10/dist-packages (from -r requirements.txt (line 6)) (0.42.0)\n",
            "Requirement already satisfied: peft==0.8.2 in /usr/local/lib/python3.10/dist-packages (from -r requirements.txt (line 7)) (0.8.2)\n",
            "Requirement already satisfied: trl==0.7.10 in /usr/local/lib/python3.10/dist-packages (from -r requirements.txt (line 8)) (0.7.10)\n",
            "Requirement already satisfied: accelerate==0.27.1 in /usr/local/lib/python3.10/dist-packages (from -r requirements.txt (line 9)) (0.27.1)\n",
            "Requirement already satisfied: datasets==2.15.0 in /usr/local/lib/python3.10/dist-packages (from -r requirements.txt (line 10)) (2.15.0)\n",
            "Requirement already satisfied: transformers==4.38.2 in /usr/local/lib/python3.10/dist-packages (from -r requirements.txt (line 11)) (4.38.2)\n",
            "Requirement already satisfied: scipy in /usr/local/lib/python3.10/dist-packages (from bitsandbytes==0.42.0->-r requirements.txt (line 6)) (1.13.1)\n",
            "Requirement already satisfied: numpy>=1.17 in /usr/local/lib/python3.10/dist-packages (from peft==0.8.2->-r requirements.txt (line 7)) (1.26.4)\n",
            "Requirement already satisfied: packaging>=20.0 in /usr/local/lib/python3.10/dist-packages (from peft==0.8.2->-r requirements.txt (line 7)) (24.2)\n",
            "Requirement already satisfied: psutil in /usr/local/lib/python3.10/dist-packages (from peft==0.8.2->-r requirements.txt (line 7)) (5.9.5)\n",
            "Requirement already satisfied: pyyaml in /usr/local/lib/python3.10/dist-packages (from peft==0.8.2->-r requirements.txt (line 7)) (6.0.2)\n",
            "Requirement already satisfied: torch>=1.13.0 in /usr/local/lib/python3.10/dist-packages (from peft==0.8.2->-r requirements.txt (line 7)) (2.5.1+cu121)\n",
            "Requirement already satisfied: tqdm in /usr/local/lib/python3.10/dist-packages (from peft==0.8.2->-r requirements.txt (line 7)) (4.66.6)\n",
            "Requirement already satisfied: safetensors in /usr/local/lib/python3.10/dist-packages (from peft==0.8.2->-r requirements.txt (line 7)) (0.4.5)\n",
            "Requirement already satisfied: huggingface-hub>=0.17.0 in /usr/local/lib/python3.10/dist-packages (from peft==0.8.2->-r requirements.txt (line 7)) (0.26.2)\n",
            "Requirement already satisfied: tyro>=0.5.11 in /usr/local/lib/python3.10/dist-packages (from trl==0.7.10->-r requirements.txt (line 8)) (0.8.14)\n",
            "Requirement already satisfied: pyarrow>=8.0.0 in /usr/local/lib/python3.10/dist-packages (from datasets==2.15.0->-r requirements.txt (line 10)) (17.0.0)\n",
            "Requirement already satisfied: pyarrow-hotfix in /usr/local/lib/python3.10/dist-packages (from datasets==2.15.0->-r requirements.txt (line 10)) (0.6)\n",
            "Requirement already satisfied: dill<0.3.8,>=0.3.0 in /usr/local/lib/python3.10/dist-packages (from datasets==2.15.0->-r requirements.txt (line 10)) (0.3.7)\n",
            "Requirement already satisfied: requests>=2.19.0 in /usr/local/lib/python3.10/dist-packages (from datasets==2.15.0->-r requirements.txt (line 10)) (2.32.3)\n",
            "Requirement already satisfied: xxhash in /usr/local/lib/python3.10/dist-packages (from datasets==2.15.0->-r requirements.txt (line 10)) (3.5.0)\n",
            "Requirement already satisfied: multiprocess in /usr/local/lib/python3.10/dist-packages (from datasets==2.15.0->-r requirements.txt (line 10)) (0.70.15)\n",
            "Requirement already satisfied: fsspec<=2023.10.0,>=2023.1.0 in /usr/local/lib/python3.10/dist-packages (from fsspec[http]<=2023.10.0,>=2023.1.0->datasets==2.15.0->-r requirements.txt (line 10)) (2023.10.0)\n",
            "Requirement already satisfied: aiohttp in /usr/local/lib/python3.10/dist-packages (from datasets==2.15.0->-r requirements.txt (line 10)) (3.10.10)\n",
            "Requirement already satisfied: filelock in /usr/local/lib/python3.10/dist-packages (from transformers==4.38.2->-r requirements.txt (line 11)) (3.16.1)\n",
            "Requirement already satisfied: regex!=2019.12.17 in /usr/local/lib/python3.10/dist-packages (from transformers==4.38.2->-r requirements.txt (line 11)) (2024.9.11)\n",
            "Requirement already satisfied: tokenizers<0.19,>=0.14 in /usr/local/lib/python3.10/dist-packages (from transformers==4.38.2->-r requirements.txt (line 11)) (0.15.2)\n",
            "Requirement already satisfied: python-dateutil>=2.8.2 in /usr/local/lib/python3.10/dist-packages (from pandas->-r requirements.txt (line 1)) (2.8.2)\n",
            "Requirement already satisfied: pytz>=2020.1 in /usr/local/lib/python3.10/dist-packages (from pandas->-r requirements.txt (line 1)) (2024.2)\n",
            "Requirement already satisfied: tzdata>=2022.7 in /usr/local/lib/python3.10/dist-packages (from pandas->-r requirements.txt (line 1)) (2024.2)\n",
            "Requirement already satisfied: SQLAlchemy<3,>=1.4 in /usr/local/lib/python3.10/dist-packages (from langchain->-r requirements.txt (line 3)) (2.0.35)\n",
            "Requirement already satisfied: async-timeout<5.0.0,>=4.0.0 in /usr/local/lib/python3.10/dist-packages (from langchain->-r requirements.txt (line 3)) (4.0.3)\n",
            "Requirement already satisfied: langchain-core<0.4.0,>=0.3.15 in /usr/local/lib/python3.10/dist-packages (from langchain->-r requirements.txt (line 3)) (0.3.17)\n",
            "Requirement already satisfied: langchain-text-splitters<0.4.0,>=0.3.0 in /usr/local/lib/python3.10/dist-packages (from langchain->-r requirements.txt (line 3)) (0.3.2)\n",
            "Requirement already satisfied: langsmith<0.2.0,>=0.1.17 in /usr/local/lib/python3.10/dist-packages (from langchain->-r requirements.txt (line 3)) (0.1.142)\n",
            "Requirement already satisfied: pydantic<3.0.0,>=2.7.4 in /usr/local/lib/python3.10/dist-packages (from langchain->-r requirements.txt (line 3)) (2.9.2)\n",
            "Requirement already satisfied: tenacity!=8.4.0,<10,>=8.1.0 in /usr/local/lib/python3.10/dist-packages (from langchain->-r requirements.txt (line 3)) (9.0.0)\n",
            "Requirement already satisfied: scikit-learn in /usr/local/lib/python3.10/dist-packages (from sentence-transformers->-r requirements.txt (line 4)) (1.5.2)\n",
            "Requirement already satisfied: Pillow in /usr/local/lib/python3.10/dist-packages (from sentence-transformers->-r requirements.txt (line 4)) (11.0.0)\n",
            "Requirement already satisfied: coloredlogs in /usr/local/lib/python3.10/dist-packages (from redisvl>=0.1.0->-r requirements.txt (line 5)) (15.0.1)\n",
            "Requirement already satisfied: ml-dtypes<0.5.0,>=0.4.0 in /usr/local/lib/python3.10/dist-packages (from redisvl>=0.1.0->-r requirements.txt (line 5)) (0.4.1)\n",
            "Requirement already satisfied: redis>=5.0.0 in /usr/local/lib/python3.10/dist-packages (from redisvl>=0.1.0->-r requirements.txt (line 5)) (5.2.0)\n",
            "Requirement already satisfied: tabulate<1,>=0.9.0 in /usr/local/lib/python3.10/dist-packages (from redisvl>=0.1.0->-r requirements.txt (line 5)) (0.9.0)\n",
            "Requirement already satisfied: aiohappyeyeballs>=2.3.0 in /usr/local/lib/python3.10/dist-packages (from aiohttp->datasets==2.15.0->-r requirements.txt (line 10)) (2.4.3)\n",
            "Requirement already satisfied: aiosignal>=1.1.2 in /usr/local/lib/python3.10/dist-packages (from aiohttp->datasets==2.15.0->-r requirements.txt (line 10)) (1.3.1)\n",
            "Requirement already satisfied: attrs>=17.3.0 in /usr/local/lib/python3.10/dist-packages (from aiohttp->datasets==2.15.0->-r requirements.txt (line 10)) (24.2.0)\n",
            "Requirement already satisfied: frozenlist>=1.1.1 in /usr/local/lib/python3.10/dist-packages (from aiohttp->datasets==2.15.0->-r requirements.txt (line 10)) (1.5.0)\n",
            "Requirement already satisfied: multidict<7.0,>=4.5 in /usr/local/lib/python3.10/dist-packages (from aiohttp->datasets==2.15.0->-r requirements.txt (line 10)) (6.1.0)\n",
            "Requirement already satisfied: yarl<2.0,>=1.12.0 in /usr/local/lib/python3.10/dist-packages (from aiohttp->datasets==2.15.0->-r requirements.txt (line 10)) (1.17.1)\n",
            "Requirement already satisfied: typing-extensions>=3.7.4.3 in /usr/local/lib/python3.10/dist-packages (from huggingface-hub>=0.17.0->peft==0.8.2->-r requirements.txt (line 7)) (4.12.2)\n",
            "Requirement already satisfied: jsonpatch<2.0,>=1.33 in /usr/local/lib/python3.10/dist-packages (from langchain-core<0.4.0,>=0.3.15->langchain->-r requirements.txt (line 3)) (1.33)\n",
            "Requirement already satisfied: httpx<1,>=0.23.0 in /usr/local/lib/python3.10/dist-packages (from langsmith<0.2.0,>=0.1.17->langchain->-r requirements.txt (line 3)) (0.27.2)\n",
            "Requirement already satisfied: orjson<4.0.0,>=3.9.14 in /usr/local/lib/python3.10/dist-packages (from langsmith<0.2.0,>=0.1.17->langchain->-r requirements.txt (line 3)) (3.10.11)\n",
            "Requirement already satisfied: requests-toolbelt<2.0.0,>=1.0.0 in /usr/local/lib/python3.10/dist-packages (from langsmith<0.2.0,>=0.1.17->langchain->-r requirements.txt (line 3)) (1.0.0)\n",
            "Requirement already satisfied: annotated-types>=0.6.0 in /usr/local/lib/python3.10/dist-packages (from pydantic<3.0.0,>=2.7.4->langchain->-r requirements.txt (line 3)) (0.7.0)\n",
            "Requirement already satisfied: pydantic-core==2.23.4 in /usr/local/lib/python3.10/dist-packages (from pydantic<3.0.0,>=2.7.4->langchain->-r requirements.txt (line 3)) (2.23.4)\n",
            "Requirement already satisfied: six>=1.5 in /usr/local/lib/python3.10/dist-packages (from python-dateutil>=2.8.2->pandas->-r requirements.txt (line 1)) (1.16.0)\n",
            "Requirement already satisfied: charset-normalizer<4,>=2 in /usr/local/lib/python3.10/dist-packages (from requests>=2.19.0->datasets==2.15.0->-r requirements.txt (line 10)) (3.4.0)\n",
            "Requirement already satisfied: idna<4,>=2.5 in /usr/local/lib/python3.10/dist-packages (from requests>=2.19.0->datasets==2.15.0->-r requirements.txt (line 10)) (3.10)\n",
            "Requirement already satisfied: urllib3<3,>=1.21.1 in /usr/local/lib/python3.10/dist-packages (from requests>=2.19.0->datasets==2.15.0->-r requirements.txt (line 10)) (2.2.3)\n",
            "Requirement already satisfied: certifi>=2017.4.17 in /usr/local/lib/python3.10/dist-packages (from requests>=2.19.0->datasets==2.15.0->-r requirements.txt (line 10)) (2024.8.30)\n",
            "Requirement already satisfied: greenlet!=0.4.17 in /usr/local/lib/python3.10/dist-packages (from SQLAlchemy<3,>=1.4->langchain->-r requirements.txt (line 3)) (3.1.1)\n",
            "Requirement already satisfied: networkx in /usr/local/lib/python3.10/dist-packages (from torch>=1.13.0->peft==0.8.2->-r requirements.txt (line 7)) (3.4.2)\n",
            "Requirement already satisfied: jinja2 in /usr/local/lib/python3.10/dist-packages (from torch>=1.13.0->peft==0.8.2->-r requirements.txt (line 7)) (3.1.4)\n",
            "Requirement already satisfied: sympy==1.13.1 in /usr/local/lib/python3.10/dist-packages (from torch>=1.13.0->peft==0.8.2->-r requirements.txt (line 7)) (1.13.1)\n",
            "Requirement already satisfied: mpmath<1.4,>=1.1.0 in /usr/local/lib/python3.10/dist-packages (from sympy==1.13.1->torch>=1.13.0->peft==0.8.2->-r requirements.txt (line 7)) (1.3.0)\n",
            "Requirement already satisfied: docstring-parser>=0.16 in /usr/local/lib/python3.10/dist-packages (from tyro>=0.5.11->trl==0.7.10->-r requirements.txt (line 8)) (0.16)\n",
            "Requirement already satisfied: rich>=11.1.0 in /usr/local/lib/python3.10/dist-packages (from tyro>=0.5.11->trl==0.7.10->-r requirements.txt (line 8)) (13.9.4)\n",
            "Requirement already satisfied: shtab>=1.5.6 in /usr/local/lib/python3.10/dist-packages (from tyro>=0.5.11->trl==0.7.10->-r requirements.txt (line 8)) (1.7.1)\n",
            "Requirement already satisfied: humanfriendly>=9.1 in /usr/local/lib/python3.10/dist-packages (from coloredlogs->redisvl>=0.1.0->-r requirements.txt (line 5)) (10.0)\n",
            "Requirement already satisfied: joblib>=1.2.0 in /usr/local/lib/python3.10/dist-packages (from scikit-learn->sentence-transformers->-r requirements.txt (line 4)) (1.4.2)\n",
            "Requirement already satisfied: threadpoolctl>=3.1.0 in /usr/local/lib/python3.10/dist-packages (from scikit-learn->sentence-transformers->-r requirements.txt (line 4)) (3.5.0)\n",
            "Requirement already satisfied: anyio in /usr/local/lib/python3.10/dist-packages (from httpx<1,>=0.23.0->langsmith<0.2.0,>=0.1.17->langchain->-r requirements.txt (line 3)) (3.7.1)\n",
            "Requirement already satisfied: httpcore==1.* in /usr/local/lib/python3.10/dist-packages (from httpx<1,>=0.23.0->langsmith<0.2.0,>=0.1.17->langchain->-r requirements.txt (line 3)) (1.0.6)\n",
            "Requirement already satisfied: sniffio in /usr/local/lib/python3.10/dist-packages (from httpx<1,>=0.23.0->langsmith<0.2.0,>=0.1.17->langchain->-r requirements.txt (line 3)) (1.3.1)\n",
            "Requirement already satisfied: h11<0.15,>=0.13 in /usr/local/lib/python3.10/dist-packages (from httpcore==1.*->httpx<1,>=0.23.0->langsmith<0.2.0,>=0.1.17->langchain->-r requirements.txt (line 3)) (0.14.0)\n",
            "Requirement already satisfied: jsonpointer>=1.9 in /usr/local/lib/python3.10/dist-packages (from jsonpatch<2.0,>=1.33->langchain-core<0.4.0,>=0.3.15->langchain->-r requirements.txt (line 3)) (3.0.0)\n",
            "Requirement already satisfied: markdown-it-py>=2.2.0 in /usr/local/lib/python3.10/dist-packages (from rich>=11.1.0->tyro>=0.5.11->trl==0.7.10->-r requirements.txt (line 8)) (3.0.0)\n",
            "Requirement already satisfied: pygments<3.0.0,>=2.13.0 in /usr/local/lib/python3.10/dist-packages (from rich>=11.1.0->tyro>=0.5.11->trl==0.7.10->-r requirements.txt (line 8)) (2.18.0)\n",
            "Requirement already satisfied: propcache>=0.2.0 in /usr/local/lib/python3.10/dist-packages (from yarl<2.0,>=1.12.0->aiohttp->datasets==2.15.0->-r requirements.txt (line 10)) (0.2.0)\n",
            "Requirement already satisfied: MarkupSafe>=2.0 in /usr/local/lib/python3.10/dist-packages (from jinja2->torch>=1.13.0->peft==0.8.2->-r requirements.txt (line 7)) (3.0.2)\n",
            "Requirement already satisfied: mdurl~=0.1 in /usr/local/lib/python3.10/dist-packages (from markdown-it-py>=2.2.0->rich>=11.1.0->tyro>=0.5.11->trl==0.7.10->-r requirements.txt (line 8)) (0.1.2)\n",
            "Requirement already satisfied: exceptiongroup in /usr/local/lib/python3.10/dist-packages (from anyio->httpx<1,>=0.23.0->langsmith<0.2.0,>=0.1.17->langchain->-r requirements.txt (line 3)) (1.2.2)\n"
          ]
        }
      ],
      "source": [
        "!pip install -r requirements.txt"
      ]
    },
    {
      "cell_type": "code",
      "source": [
        "import torch             # allows Tensor computation with strong GPU acceleration\n",
        "from transformers import AutoTokenizer, BitsAndBytesConfig, AutoModelForCausalLM\n",
        "import os\n",
        "\n",
        "bnb_config = BitsAndBytesConfig(\n",
        "    load_in_4bit=True,\n",
        "    bnb_4bit_use_double_quant=True,\n",
        "    bnb_4bit_quant_type=\"nf4\",\n",
        "    bnb_4bit_compute_dtype=torch.bfloat16\n",
        ")"
      ],
      "metadata": {
        "id": "I0bub3X9yEiv",
        "colab": {
          "base_uri": "https://localhost:8080/",
          "height": 17
        },
        "outputId": "f1a2a4a3-4896-4aa6-a2d7-3aee3701d8d8"
      },
      "execution_count": null,
      "outputs": [
        {
          "output_type": "display_data",
          "data": {
            "text/plain": [
              "<IPython.core.display.HTML object>"
            ],
            "text/html": [
              "\n",
              "  <style>\n",
              "    pre {\n",
              "        white-space: pre-wrap;\n",
              "    }\n",
              "  </style>\n",
              "  "
            ]
          },
          "metadata": {}
        }
      ]
    },
    {
      "cell_type": "markdown",
      "source": [
        "## Huggingface login to use InferenceClient for Dense Content Representation"
      ],
      "metadata": {
        "id": "bZMFW4WVSVPy"
      }
    },
    {
      "cell_type": "code",
      "source": [
        "from huggingface_hub import InferenceClient, notebook_login\n",
        "notebook_login()"
      ],
      "metadata": {
        "id": "ud5eBizCr2U6",
        "colab": {
          "base_uri": "https://localhost:8080/",
          "height": 17,
          "referenced_widgets": [
            "b9ceb461478c4d1e96e6332d82ca0ee4",
            "bdc7238ed87d425d843266313b56ac94",
            "56fe4822a8ab407ea68b76617ea156e4",
            "d2fbecdd7ba74aad89ad8d9bbc02f572",
            "97d15e4936df43709dae5cd548ef3441",
            "0bb561c8a13f4e0e891cf6ea6630b706",
            "418f9f5972634382a2379e639a6e7ef8",
            "8e83386fa0df44e3811d5422507e05e8",
            "134685f5be994413bc56b4d46dc8e99b",
            "64be91d4ea5e41ab9df746ea33a0ecf4",
            "232afaa555044ea285c03b7844e7e48c",
            "84dc617b48fd4f93aec99a11542f3d3f",
            "6cdc62b750904140a098e4a04e8621b9",
            "5e08afada19f48ddb92cfc1f884959f3",
            "819255f9f0f64035a4d0ccc65a7ae4bf",
            "266e4d7341c7457c83564114c97aee94",
            "cc587e193aa94bcd89de74793c618205",
            "92a7c61bfdbd489c9c088141c5b09f8f",
            "a5e4e38dd2a74807b09c839d959fb133",
            "59ed60cc18ce4085b1974ecce085cc18"
          ]
        },
        "outputId": "753b53cb-0a99-49bd-95f3-60811787963e"
      },
      "execution_count": null,
      "outputs": [
        {
          "output_type": "display_data",
          "data": {
            "text/plain": [
              "<IPython.core.display.HTML object>"
            ],
            "text/html": [
              "\n",
              "  <style>\n",
              "    pre {\n",
              "        white-space: pre-wrap;\n",
              "    }\n",
              "  </style>\n",
              "  "
            ]
          },
          "metadata": {}
        },
        {
          "output_type": "display_data",
          "data": {
            "text/plain": [
              "VBox(children=(HTML(value='<center> <img\\nsrc=https://huggingface.co/front/assets/huggingface_logo-noborder.sv…"
            ],
            "application/vnd.jupyter.widget-view+json": {
              "version_major": 2,
              "version_minor": 0,
              "model_id": "b9ceb461478c4d1e96e6332d82ca0ee4"
            }
          },
          "metadata": {}
        }
      ]
    },
    {
      "cell_type": "code",
      "source": [
        "llm_client = InferenceClient(model=\"meta-llama/Meta-Llama-3-8B-Instruct\")"
      ],
      "metadata": {
        "colab": {
          "base_uri": "https://localhost:8080/",
          "height": 17
        },
        "id": "qCEm9rZ5SRdq",
        "outputId": "aad4edc1-d7b1-44bc-e74b-90326231a0f4"
      },
      "execution_count": null,
      "outputs": [
        {
          "output_type": "display_data",
          "data": {
            "text/plain": [
              "<IPython.core.display.HTML object>"
            ],
            "text/html": [
              "\n",
              "  <style>\n",
              "    pre {\n",
              "        white-space: pre-wrap;\n",
              "    }\n",
              "  </style>\n",
              "  "
            ]
          },
          "metadata": {}
        }
      ]
    },
    {
      "cell_type": "code",
      "source": [
        "# load model\n",
        "model_id=\"arnavj007/gemma-business-instruct-finetune\"\n",
        "\n",
        "model = AutoModelForCausalLM.from_pretrained(model_id, quantization_config=bnb_config, device_map={\"\":0})\n",
        "tokenizer = AutoTokenizer.from_pretrained(model_id, add_eos_token=True)"
      ],
      "metadata": {
        "id": "FiLtOFbIyIC9",
        "outputId": "3ca85a4e-0f96-499a-f403-47a56e4cce1b",
        "colab": {
          "base_uri": "https://localhost:8080/",
          "height": 156,
          "referenced_widgets": [
            "c8be284ef60d4c57a7250bd430cd847e",
            "af271a9eb0d542b59c7f92c5aedcb50e",
            "c002ccfc09114435922553d2d257d768",
            "35404e0d6b1f4a6a8740c138a450166e",
            "c1300200faf540dab4d4cefe7cc1d6a5",
            "ecafc7bc37e84f1893328efc8ace3ab7",
            "94b4bcc0c2004087b1c6ed1412423cc2",
            "9993ba1b0030446d862e5f3c5d8b4d64",
            "56f737e1541e44e0a6545cda15953364",
            "dc4d05c0e01a4bc38a495848ac048741",
            "5e96a5a4ef544ad3ad4d8655b2ae825e"
          ]
        }
      },
      "execution_count": null,
      "outputs": [
        {
          "output_type": "display_data",
          "data": {
            "text/plain": [
              "<IPython.core.display.HTML object>"
            ],
            "text/html": [
              "\n",
              "  <style>\n",
              "    pre {\n",
              "        white-space: pre-wrap;\n",
              "    }\n",
              "  </style>\n",
              "  "
            ]
          },
          "metadata": {}
        },
        {
          "output_type": "stream",
          "name": "stderr",
          "text": [
            "/usr/local/lib/python3.10/dist-packages/huggingface_hub/file_download.py:797: FutureWarning: `resume_download` is deprecated and will be removed in version 1.0.0. Downloads always resume when possible. If you want to force a new download, use `force_download=True`.\n",
            "  warnings.warn(\n"
          ]
        },
        {
          "output_type": "display_data",
          "data": {
            "text/plain": [
              "Loading checkpoint shards:   0%|          | 0/2 [00:00<?, ?it/s]"
            ],
            "application/vnd.jupyter.widget-view+json": {
              "version_major": 2,
              "version_minor": 0,
              "model_id": "c8be284ef60d4c57a7250bd430cd847e"
            }
          },
          "metadata": {}
        },
        {
          "output_type": "stream",
          "name": "stderr",
          "text": [
            "/usr/local/lib/python3.10/dist-packages/huggingface_hub/file_download.py:797: FutureWarning: `resume_download` is deprecated and will be removed in version 1.0.0. Downloads always resume when possible. If you want to force a new download, use `force_download=True`.\n",
            "  warnings.warn(\n"
          ]
        }
      ]
    },
    {
      "cell_type": "code",
      "execution_count": null,
      "metadata": {
        "id": "oTeBg4AvjdYs",
        "colab": {
          "base_uri": "https://localhost:8080/",
          "height": 17
        },
        "outputId": "82169574-ef3d-4c1e-8d8d-66301efc72ad"
      },
      "outputs": [
        {
          "output_type": "display_data",
          "data": {
            "text/plain": [
              "<IPython.core.display.HTML object>"
            ],
            "text/html": [
              "\n",
              "  <style>\n",
              "    pre {\n",
              "        white-space: pre-wrap;\n",
              "    }\n",
              "  </style>\n",
              "  "
            ]
          },
          "metadata": {}
        }
      ],
      "source": [
        "import warnings\n",
        "\n",
        "warnings.filterwarnings(\"ignore\")"
      ]
    },
    {
      "cell_type": "markdown",
      "metadata": {
        "id": "i0g33yaCgp29"
      },
      "source": [
        "### Install Redis Stack\n",
        "\n",
        "Redis will be used to store, index, and query vector\n",
        "embeddings created from document chunks. **We need to make sure we have a Redis\n",
        "instance available.**"
      ]
    },
    {
      "cell_type": "markdown",
      "metadata": {
        "id": "PxeZ0Gfbgp29"
      },
      "source": [
        "#### Localized Redis Stack\n",
        "Use the shell script below to download, extract, and install [Redis Stack](https://redis.io/docs/getting-started/install-stack/) directly\n",
        "from the Redis package archive."
      ]
    },
    {
      "cell_type": "code",
      "execution_count": null,
      "metadata": {
        "id": "XPnttG_ogp3B",
        "outputId": "f70c1f24-7d23-4780-eafe-f18082941f3d",
        "colab": {
          "base_uri": "https://localhost:8080/",
          "height": 88
        }
      },
      "outputs": [
        {
          "output_type": "display_data",
          "data": {
            "text/plain": [
              "<IPython.core.display.HTML object>"
            ],
            "text/html": [
              "\n",
              "  <style>\n",
              "    pre {\n",
              "        white-space: pre-wrap;\n",
              "    }\n",
              "  </style>\n",
              "  "
            ]
          },
          "metadata": {}
        },
        {
          "output_type": "stream",
          "name": "stdout",
          "text": [
            "deb [signed-by=/usr/share/keyrings/redis-archive-keyring.gpg] https://packages.redis.io/deb jammy main\n",
            "Starting redis-stack-server, database path /var/lib/redis-stack\n"
          ]
        },
        {
          "output_type": "stream",
          "name": "stderr",
          "text": [
            "gpg: cannot open '/dev/tty': No such device or address\n",
            "curl: (23) Failed writing body\n"
          ]
        }
      ],
      "source": [
        "%%sh\n",
        "curl -fsSL https://packages.redis.io/gpg | sudo gpg --dearmor -o /usr/share/keyrings/redis-archive-keyring.gpg\n",
        "echo \"deb [signed-by=/usr/share/keyrings/redis-archive-keyring.gpg] https://packages.redis.io/deb $(lsb_release -cs) main\" | sudo tee /etc/apt/sources.list.d/redis.list\n",
        "sudo apt-get update  > /dev/null 2>&1\n",
        "sudo apt-get install redis-stack-server  > /dev/null 2>&1\n",
        "redis-stack-server --daemonize yes"
      ]
    },
    {
      "cell_type": "markdown",
      "metadata": {
        "id": "5DF4q6CTgp3F"
      },
      "source": [
        "### Define the Redis Connection URL\n",
        "\n",
        "By default this notebook connects to the local instance of Redis Stack. **If you have your own Redis Enterprise instance** - replace REDIS_PASSWORD, REDIS_HOST and REDIS_PORT values with your own."
      ]
    },
    {
      "cell_type": "code",
      "execution_count": null,
      "metadata": {
        "id": "sX2eLDlbgp3H",
        "colab": {
          "base_uri": "https://localhost:8080/",
          "height": 17
        },
        "outputId": "d620aabe-41d0-4b25-d73c-ade5c486c887"
      },
      "outputs": [
        {
          "output_type": "display_data",
          "data": {
            "text/plain": [
              "<IPython.core.display.HTML object>"
            ],
            "text/html": [
              "\n",
              "  <style>\n",
              "    pre {\n",
              "        white-space: pre-wrap;\n",
              "    }\n",
              "  </style>\n",
              "  "
            ]
          },
          "metadata": {}
        }
      ],
      "source": [
        "import os\n",
        "\n",
        "# Replace values below with your own if using Redis Cloud instance\n",
        "REDIS_HOST = os.getenv(\"REDIS_HOST\", \"localhost\")\n",
        "REDIS_PORT = os.getenv(\"REDIS_PORT\", \"6379\")\n",
        "REDIS_PASSWORD = os.getenv(\"REDIS_PASSWORD\", \"\")\n",
        "\n",
        "# If SSL is enabled on the endpoint, use rediss:// as the URL prefix\n",
        "REDIS_URL = f\"redis://:{REDIS_PASSWORD}@{REDIS_HOST}:{REDIS_PORT}\""
      ]
    },
    {
      "cell_type": "markdown",
      "metadata": {
        "id": "hSXrlzsGgp3J"
      },
      "source": [
        "## Simplified Vector Search with RedisVL"
      ]
    },
    {
      "cell_type": "code",
      "execution_count": null,
      "metadata": {
        "id": "uijl2qFH1ui3",
        "outputId": "6945dad5-b5ca-444f-eda4-42603f51405f",
        "colab": {
          "base_uri": "https://localhost:8080/",
          "height": 17
        }
      },
      "outputs": [
        {
          "output_type": "display_data",
          "data": {
            "text/plain": [
              "<IPython.core.display.HTML object>"
            ],
            "text/html": [
              "\n",
              "  <style>\n",
              "    pre {\n",
              "        white-space: pre-wrap;\n",
              "    }\n",
              "  </style>\n",
              "  "
            ]
          },
          "metadata": {}
        }
      ],
      "source": [
        "from langchain_community.document_loaders import HuggingFaceDatasetLoader\n",
        "from langchain.text_splitter import RecursiveCharacterTextSplitter\n",
        "\n",
        "dataset_name = \"suku9/business_news_sentiment\"\n",
        "page_content_column = \"news\"\n",
        "\n",
        "loader = HuggingFaceDatasetLoader(dataset_name, page_content_column)\n",
        "\n",
        "data = loader.load()\n",
        "\n",
        "# data = data[:3000] # use 3000 cases"
      ]
    },
    {
      "cell_type": "markdown",
      "metadata": {
        "id": "ycuZztb9gp3N"
      },
      "source": [
        "### Text embedding generation with RedisVL\n",
        "RedisVL has built-in extensions and utilities to aid the GenAI development process."
      ]
    },
    {
      "cell_type": "code",
      "execution_count": null,
      "metadata": {
        "id": "BvBZlJL1gp3O",
        "outputId": "b11625aa-5c38-4c27-a068-08a99ad43fb3",
        "colab": {
          "base_uri": "https://localhost:8080/",
          "height": 135,
          "referenced_widgets": [
            "fe917cff53aa4315a7b9e8c101ff11d3",
            "42bac62d01824effb9490143ce340c00",
            "c9266854d5f0430f826057073d459708",
            "ba5f13cc24fc42a4a8bb0f037f630b52",
            "b663de4699d3497cbef7704979f9b983",
            "2b65c600fe26466090ca063e1f7f8bc5",
            "5fcbeb89d72443b8990f5988d70ec09b",
            "98d52280477e4f299e0a656200d817ce",
            "993effb9461b4888afbae0f57722eeea",
            "b1d43105c101450a842c8057b6d2a822",
            "e1dedb2b8af94856a04c26442462a6fb",
            "215567b15eed4946ba68b6ab844fc62b",
            "1535ecb1f1b947098558540bc0ee011a",
            "6ee19a90573d4569902efc12a369439e",
            "336154cd8cbc44e687d6a9acb95cb55a",
            "ab932b784b604973976aaf6447ef5118",
            "d1865977df78414999b1a3c74504111c",
            "c2a65363012541fdabcb4a4c76fbf4cd",
            "9acfb9e3f1bc4226967e73d5b690588b",
            "9c648ebde0e44bc49ecae08eb343bed9",
            "47d1e8cc51f447dd823f7059af47643a",
            "7efddcd614df49aca87af2815d03beac"
          ]
        }
      },
      "outputs": [
        {
          "output_type": "display_data",
          "data": {
            "text/plain": [
              "<IPython.core.display.HTML object>"
            ],
            "text/html": [
              "\n",
              "  <style>\n",
              "    pre {\n",
              "        white-space: pre-wrap;\n",
              "    }\n",
              "  </style>\n",
              "  "
            ]
          },
          "metadata": {}
        },
        {
          "output_type": "stream",
          "name": "stdout",
          "text": [
            "11:03:15 sentence_transformers.SentenceTransformer INFO   Use pytorch device_name: cuda\n",
            "11:03:15 sentence_transformers.SentenceTransformer INFO   Load pretrained SentenceTransformer: sentence-transformers/all-MiniLM-L6-v2\n"
          ]
        },
        {
          "output_type": "display_data",
          "data": {
            "text/plain": [
              "Batches:   0%|          | 0/1 [00:00<?, ?it/s]"
            ],
            "application/vnd.jupyter.widget-view+json": {
              "version_major": 2,
              "version_minor": 0,
              "model_id": "fe917cff53aa4315a7b9e8c101ff11d3"
            }
          },
          "metadata": {}
        },
        {
          "output_type": "display_data",
          "data": {
            "text/plain": [
              "Batches:   0%|          | 0/29 [00:00<?, ?it/s]"
            ],
            "application/vnd.jupyter.widget-view+json": {
              "version_major": 2,
              "version_minor": 0,
              "model_id": "215567b15eed4946ba68b6ab844fc62b"
            }
          },
          "metadata": {}
        },
        {
          "output_type": "execute_result",
          "data": {
            "text/plain": [
              "True"
            ]
          },
          "metadata": {},
          "execution_count": 13
        }
      ],
      "source": [
        "from redisvl.utils.vectorize import HFTextVectorizer\n",
        "\n",
        "hf = HFTextVectorizer(\"sentence-transformers/all-MiniLM-L6-v2\")\n",
        "os.environ[\"TOKENIZERS_PARALLELISM\"] = \"false\"\n",
        "\n",
        "# Embed each chunk content\n",
        "embeddings = hf.embed_many([rec.page_content for rec in data])\n",
        "\n",
        "# Check to make sure we've created enough embeddings, 1 per document chunk\n",
        "len(embeddings) == len(data)"
      ]
    },
    {
      "cell_type": "markdown",
      "metadata": {
        "id": "5baI0xDQ1ui-"
      },
      "source": [
        "### Define a schema and create an index\n",
        "\n",
        "Below we connect to Redis and create an index that contains a text field, tag field, and vector field."
      ]
    },
    {
      "cell_type": "code",
      "execution_count": null,
      "metadata": {
        "id": "zB1EW_9n1ui-",
        "colab": {
          "base_uri": "https://localhost:8080/",
          "height": 17
        },
        "outputId": "211a381f-1fe0-4945-e387-1285fd3d9e23"
      },
      "outputs": [
        {
          "output_type": "display_data",
          "data": {
            "text/plain": [
              "<IPython.core.display.HTML object>"
            ],
            "text/html": [
              "\n",
              "  <style>\n",
              "    pre {\n",
              "        white-space: pre-wrap;\n",
              "    }\n",
              "  </style>\n",
              "  "
            ]
          },
          "metadata": {}
        }
      ],
      "source": [
        "from redis import Redis\n",
        "from redisvl.schema import IndexSchema\n",
        "from redisvl.index import SearchIndex\n",
        "\n",
        "\n",
        "index_name = \"redisvl\"\n",
        "\n",
        "redis_schema = IndexSchema.from_dict({\n",
        "  \"index\": {\n",
        "    \"name\": index_name,\n",
        "    \"prefix\": \"record\"\n",
        "  },\n",
        "  \"fields\": [\n",
        "    {\n",
        "        \"name\": \"doc_id\",\n",
        "        \"type\": \"tag\",\n",
        "        \"attrs\": {\n",
        "            \"sortable\": True\n",
        "        }\n",
        "    },\n",
        "    {\n",
        "        \"name\": \"content\",\n",
        "        \"type\": \"text\"\n",
        "    },\n",
        "    {\n",
        "        \"name\": \"text_embedding\",\n",
        "        \"type\": \"vector\",\n",
        "        \"attrs\": {\n",
        "            \"dims\": hf.dims,\n",
        "            \"distance_metric\": \"cosine\",\n",
        "            \"algorithm\": \"hnsw\",\n",
        "            \"datatype\": \"float32\"\n",
        "        }\n",
        "    }\n",
        "  ]\n",
        "})\n",
        "\n",
        "schema = {\n",
        "  \"index\": {\n",
        "    \"name\": index_name,\n",
        "    \"prefix\": \"record\"\n",
        "  },\n",
        "  \"fields\": [\n",
        "    {\n",
        "        \"name\": \"doc_id\",\n",
        "        \"type\": \"tag\",\n",
        "        \"attrs\": {\n",
        "            \"sortable\": True\n",
        "        }\n",
        "    },\n",
        "    {\n",
        "        \"name\": \"content\",\n",
        "        \"type\": \"text\"\n",
        "    },\n",
        "    {\n",
        "        \"name\": \"text_embedding\",\n",
        "        \"type\": \"vector\",\n",
        "        \"attrs\": {\n",
        "            \"dims\": hf.dims,\n",
        "            \"distance_metric\": \"cosine\",\n",
        "            \"algorithm\": \"hnsw\",\n",
        "            \"datatype\": \"float32\"\n",
        "        }\n",
        "    }\n",
        "  ]\n",
        "}"
      ]
    },
    {
      "cell_type": "code",
      "execution_count": null,
      "metadata": {
        "id": "-KxzGUdzgp3S",
        "colab": {
          "base_uri": "https://localhost:8080/",
          "height": 17
        },
        "outputId": "c6d3040e-32bc-4f27-a20e-811eda2f13ec"
      },
      "outputs": [
        {
          "output_type": "display_data",
          "data": {
            "text/plain": [
              "<IPython.core.display.HTML object>"
            ],
            "text/html": [
              "\n",
              "  <style>\n",
              "    pre {\n",
              "        white-space: pre-wrap;\n",
              "    }\n",
              "  </style>\n",
              "  "
            ]
          },
          "metadata": {}
        }
      ],
      "source": [
        "# connect to redis\n",
        "client = Redis.from_url(REDIS_URL)\n",
        "\n",
        "# create an index from schema and the client\n",
        "index = SearchIndex(redis_schema, client)\n",
        "index.create(overwrite=True, drop=True)"
      ]
    },
    {
      "cell_type": "code",
      "execution_count": null,
      "metadata": {
        "id": "L6GOqmeN1ui_",
        "colab": {
          "base_uri": "https://localhost:8080/",
          "height": 71
        },
        "outputId": "2bccab22-3a2f-46bd-8229-e7eda1ca5885"
      },
      "outputs": [
        {
          "output_type": "display_data",
          "data": {
            "text/plain": [
              "<IPython.core.display.HTML object>"
            ],
            "text/html": [
              "\n",
              "  <style>\n",
              "    pre {\n",
              "        white-space: pre-wrap;\n",
              "    }\n",
              "  </style>\n",
              "  "
            ]
          },
          "metadata": {}
        },
        {
          "output_type": "stream",
          "name": "stdout",
          "text": [
            "\u001b[32m11:07:25\u001b[0m \u001b[34m[RedisVL]\u001b[0m \u001b[1;30mINFO\u001b[0m   Indices:\n",
            "\u001b[32m11:07:25\u001b[0m \u001b[34m[RedisVL]\u001b[0m \u001b[1;30mINFO\u001b[0m   1. llmcache\n",
            "\u001b[32m11:07:25\u001b[0m \u001b[34m[RedisVL]\u001b[0m \u001b[1;30mINFO\u001b[0m   2. redisvl\n"
          ]
        }
      ],
      "source": [
        "# use the RedisVL CLI tool to list all indices\n",
        "!rvl index listall"
      ]
    },
    {
      "cell_type": "code",
      "execution_count": null,
      "metadata": {
        "id": "C70C-UWj1ujA",
        "outputId": "62f81521-5096-499c-c625-f81d94f3790a",
        "colab": {
          "base_uri": "https://localhost:8080/",
          "height": 394
        }
      },
      "outputs": [
        {
          "output_type": "display_data",
          "data": {
            "text/plain": [
              "<IPython.core.display.HTML object>"
            ],
            "text/html": [
              "\n",
              "  <style>\n",
              "    pre {\n",
              "        white-space: pre-wrap;\n",
              "    }\n",
              "  </style>\n",
              "  "
            ]
          },
          "metadata": {}
        },
        {
          "output_type": "stream",
          "name": "stdout",
          "text": [
            "\n",
            "\n",
            "Index Information:\n",
            "╭──────────────┬────────────────┬────────────┬─────────────────┬────────────╮\n",
            "│ Index Name   │ Storage Type   │ Prefixes   │ Index Options   │   Indexing │\n",
            "├──────────────┼────────────────┼────────────┼─────────────────┼────────────┤\n",
            "│ redisvl      │ HASH           │ ['record'] │ []              │          0 │\n",
            "╰──────────────┴────────────────┴────────────┴─────────────────┴────────────╯\n",
            "Index Fields:\n",
            "╭────────────────┬────────────────┬────────┬────────────────┬────────────────┬────────────────┬────────────────┬────────────────┬────────────────┬─────────────────┬────────────────┬────────────────┬────────────────┬─────────────────┬────────────────╮\n",
            "│ Name           │ Attribute      │ Type   │ Field Option   │ Option Value   │ Field Option   │ Option Value   │ Field Option   │   Option Value │ Field Option    │ Option Value   │ Field Option   │   Option Value │ Field Option    │   Option Value │\n",
            "├────────────────┼────────────────┼────────┼────────────────┼────────────────┼────────────────┼────────────────┼────────────────┼────────────────┼─────────────────┼────────────────┼────────────────┼────────────────┼─────────────────┼────────────────┤\n",
            "│ doc_id         │ doc_id         │ TAG    │ SEPARATOR      │ ,              │                │                │                │                │                 │                │                │                │                 │                │\n",
            "│ content        │ content        │ TEXT   │ WEIGHT         │ 1              │                │                │                │                │                 │                │                │                │                 │                │\n",
            "│ text_embedding │ text_embedding │ VECTOR │ algorithm      │ HNSW           │ data_type      │ FLOAT32        │ dim            │            384 │ distance_metric │ COSINE         │ M              │             16 │ ef_construction │            200 │\n",
            "╰────────────────┴────────────────┴────────┴────────────────┴────────────────┴────────────────┴────────────────┴────────────────┴────────────────┴─────────────────┴────────────────┴────────────────┴────────────────┴─────────────────┴────────────────╯\n"
          ]
        }
      ],
      "source": [
        "# get info about the index\n",
        "!rvl index info -i redisvl"
      ]
    },
    {
      "cell_type": "markdown",
      "metadata": {
        "id": "Qrj-jeGmBRTL"
      },
      "source": [
        "### Process and load dataset\n",
        "Below we use the RedisVL index to simply load the list of document chunks to Redis db."
      ]
    },
    {
      "cell_type": "code",
      "execution_count": null,
      "metadata": {
        "id": "Zsg09Keg1ujA",
        "colab": {
          "base_uri": "https://localhost:8080/",
          "height": 17
        },
        "outputId": "73f1c29e-4d49-406f-b70f-68c1f4afb7ec"
      },
      "outputs": [
        {
          "output_type": "display_data",
          "data": {
            "text/plain": [
              "<IPython.core.display.HTML object>"
            ],
            "text/html": [
              "\n",
              "  <style>\n",
              "    pre {\n",
              "        white-space: pre-wrap;\n",
              "    }\n",
              "  </style>\n",
              "  "
            ]
          },
          "metadata": {}
        }
      ],
      "source": [
        "# load expects an iterable of dictionaries\n",
        "from redisvl.redis.utils import array_to_buffer\n",
        "import numpy as np\n",
        "\n",
        "# print(data)\n",
        "\n",
        "dics = [\n",
        "    {\n",
        "        'doc_id': f'{i}',\n",
        "        # 'content': rec.news + f'\\n sentiment: {rec.sentiment}',\n",
        "        'content': rec.page_content + f'\\n actual sentiment: {rec.metadata.get(\"actual_sentiment\")}',\n",
        "        # For HASH -- must convert embeddings to bytes\n",
        "        # 'text_embedding': embeddings[i]\n",
        "        'text_embedding': array_to_buffer(embeddings[i], dtype='float32')\n",
        "    } for i, rec in enumerate(data)\n",
        "]\n",
        "\n",
        "# RedisVL handles batching automatically\n",
        "keys = index.load(dics, id_field=\"doc_id\")"
      ]
    },
    {
      "cell_type": "markdown",
      "metadata": {
        "id": "-ZsFB-6Z1ujB"
      },
      "source": [
        "### Query the database\n",
        "Now we can use the RedisVL index to perform similarity search operations with Redis"
      ]
    },
    {
      "cell_type": "code",
      "execution_count": null,
      "metadata": {
        "id": "BkFv-_iC1ujB",
        "outputId": "f1937823-eaad-4793-d6c2-fd204da6865c",
        "colab": {
          "base_uri": "https://localhost:8080/",
          "height": 67,
          "referenced_widgets": [
            "3d8ea83aa33848d9b344f2b176c5d94d",
            "fa01e22c9072466bbc008fbde53fa992",
            "280adb216d6249e5a992959119f0252d",
            "dc8362258e164cfcbf2d068da3b3a51b",
            "a1669b4ad15e40de9a2cd584882ae849",
            "ad036e1bcfcd4c178091ba092274588e",
            "53b0a821b24941f1b05ebc7c2d0fffdd",
            "238ccdd409a34c9dba570c8f41cc5570",
            "78369c16a3c34fbe94409b09236bbc08",
            "5e3ea90018d54135bebd22fb0d5d4020",
            "52882fdf22db478495f14fa380bcf4e1"
          ]
        }
      },
      "outputs": [
        {
          "output_type": "display_data",
          "data": {
            "text/plain": [
              "<IPython.core.display.HTML object>"
            ],
            "text/html": [
              "\n",
              "  <style>\n",
              "    pre {\n",
              "        white-space: pre-wrap;\n",
              "    }\n",
              "  </style>\n",
              "  "
            ]
          },
          "metadata": {}
        },
        {
          "output_type": "display_data",
          "data": {
            "text/plain": [
              "Batches:   0%|          | 0/1 [00:00<?, ?it/s]"
            ],
            "application/vnd.jupyter.widget-view+json": {
              "version_major": 2,
              "version_minor": 0,
              "model_id": "3d8ea83aa33848d9b344f2b176c5d94d"
            }
          },
          "metadata": {}
        },
        {
          "output_type": "execute_result",
          "data": {
            "text/plain": [
              "'*=>[KNN 3 @text_embedding $vector AS vector_distance] RETURN 3 doc_id content vector_distance SORTBY vector_distance ASC DIALECT 2 LIMIT 0 3'"
            ],
            "application/vnd.google.colaboratory.intrinsic+json": {
              "type": "string"
            }
          },
          "metadata": {},
          "execution_count": 31
        }
      ],
      "source": [
        "from redisvl.query import VectorQuery\n",
        "\n",
        "query = \"my business is drowning\"\n",
        "\n",
        "query_embedding = hf.embed(query)\n",
        "\n",
        "vector_query = VectorQuery(\n",
        "    vector=query_embedding,\n",
        "    vector_field_name=\"text_embedding\",\n",
        "    num_results=3,\n",
        "    return_fields=[\"doc_id\", \"content\"],\n",
        "    return_score=True\n",
        ")\n",
        "\n",
        "# show the raw redis query\n",
        "str(vector_query)"
      ]
    },
    {
      "cell_type": "code",
      "execution_count": null,
      "metadata": {
        "id": "rZrcd6n7T6LE",
        "colab": {
          "base_uri": "https://localhost:8080/",
          "height": 71
        },
        "outputId": "d310399b-d802-4435-ba68-0025a910a692"
      },
      "outputs": [
        {
          "output_type": "display_data",
          "data": {
            "text/plain": [
              "<IPython.core.display.HTML object>"
            ],
            "text/html": [
              "\n",
              "  <style>\n",
              "    pre {\n",
              "        white-space: pre-wrap;\n",
              "    }\n",
              "  </style>\n",
              "  "
            ]
          },
          "metadata": {}
        },
        {
          "output_type": "stream",
          "name": "stdout",
          "text": [
            "100 0.683950483799\n",
            "765 0.692428588867\n",
            "131 0.693985462189\n"
          ]
        }
      ],
      "source": [
        "# paginate through results\n",
        "for result in index.paginate(vector_query, page_size=1):\n",
        "    print(result[0][\"doc_id\"], result[0][\"vector_distance\"], flush=True)"
      ]
    },
    {
      "cell_type": "markdown",
      "metadata": {
        "id": "0Ap6WqPLT6LE"
      },
      "source": [
        "### Sort by alternative fields"
      ]
    },
    {
      "cell_type": "code",
      "execution_count": null,
      "metadata": {
        "id": "daLVm6OkLn9T",
        "outputId": "02f4da7f-ba50-4584-e32c-3963054e6f25",
        "colab": {
          "base_uri": "https://localhost:8080/",
          "height": 339
        }
      },
      "outputs": [
        {
          "output_type": "display_data",
          "data": {
            "text/plain": [
              "<IPython.core.display.HTML object>"
            ],
            "text/html": [
              "\n",
              "  <style>\n",
              "    pre {\n",
              "        white-space: pre-wrap;\n",
              "    }\n",
              "  </style>\n",
              "  "
            ]
          },
          "metadata": {}
        },
        {
          "output_type": "stream",
          "name": "stdout",
          "text": [
            "[Document {'id': 'record:100', 'payload': None, 'vector_distance': '0.683950483799', 'doc_id': '100'}, Document {'id': 'record:131', 'payload': None, 'vector_distance': '0.693985462189', 'doc_id': '131'}, Document {'id': 'record:720', 'payload': None, 'vector_distance': '0.695949018002', 'doc_id': '720'}, Document {'id': 'record:765', 'payload': None, 'vector_distance': '0.692428588867', 'doc_id': '765'}]\n"
          ]
        },
        {
          "output_type": "execute_result",
          "data": {
            "text/plain": [
              "[{'id': 'record:100',\n",
              "  'payload': None,\n",
              "  'vector_distance': '0.683950483799',\n",
              "  'doc_id': '100'},\n",
              " {'id': 'record:131',\n",
              "  'payload': None,\n",
              "  'vector_distance': '0.693985462189',\n",
              "  'doc_id': '131'},\n",
              " {'id': 'record:720',\n",
              "  'payload': None,\n",
              "  'vector_distance': '0.695949018002',\n",
              "  'doc_id': '720'},\n",
              " {'id': 'record:765',\n",
              "  'payload': None,\n",
              "  'vector_distance': '0.692428588867',\n",
              "  'doc_id': '765'}]"
            ]
          },
          "metadata": {},
          "execution_count": 33
        }
      ],
      "source": [
        "# Sort by doc_id field after vector search limits to topK\n",
        "vector_query = VectorQuery(\n",
        "    vector=query_embedding,\n",
        "    vector_field_name=\"text_embedding\",\n",
        "    num_results=4,\n",
        "    return_fields=[\"doc_id\"],\n",
        "    return_score=True\n",
        ")\n",
        "\n",
        "# Decompose vector_query into the core query and the params\n",
        "query = vector_query.query\n",
        "params = vector_query.params\n",
        "\n",
        "# Pass query and params direct to index.search()\n",
        "result = index.search(\n",
        "    query.sort_by(\"doc_id\", asc=True),\n",
        "    params\n",
        ")\n",
        "\n",
        "print(result.docs)\n",
        "\n",
        "[doc.__dict__ for doc in result.docs]"
      ]
    },
    {
      "cell_type": "markdown",
      "metadata": {
        "id": "81PoXomtT6LF"
      },
      "source": [
        "### Add filters to vector queries"
      ]
    },
    {
      "cell_type": "markdown",
      "metadata": {
        "id": "5XvVv8zAT6LF"
      },
      "source": [
        "### Range queries in RedisVL"
      ]
    },
    {
      "cell_type": "markdown",
      "metadata": {
        "id": "zYYPTQN7T6LG"
      },
      "source": [
        "## Building a RAG Pipeline from Scratch\n",
        "We're going to build a complete RAG pipeline from scratch incorporating the following components:\n",
        "\n",
        "- Use VSS to retrieve context data\n",
        "- Semantic caching to improve performance\n",
        "- Pre-processing the context retreived to create dense content propositions\n"
      ]
    },
    {
      "cell_type": "markdown",
      "metadata": {
        "id": "rCWlVR2OT6LG"
      },
      "source": [
        "### Setup RedisVL AsyncSearchIndex"
      ]
    },
    {
      "cell_type": "code",
      "execution_count": null,
      "metadata": {
        "id": "_esLGYzbT6LG",
        "colab": {
          "base_uri": "https://localhost:8080/",
          "height": 35
        },
        "outputId": "01363654-15df-4492-b214-1bdaf8c5e99e"
      },
      "outputs": [
        {
          "output_type": "display_data",
          "data": {
            "text/plain": [
              "<IPython.core.display.HTML object>"
            ],
            "text/html": [
              "\n",
              "  <style>\n",
              "    pre {\n",
              "        white-space: pre-wrap;\n",
              "    }\n",
              "  </style>\n",
              "  "
            ]
          },
          "metadata": {}
        },
        {
          "output_type": "execute_result",
          "data": {
            "text/plain": [
              "<redisvl.index.index.AsyncSearchIndex at 0x7f8fde5620b0>"
            ]
          },
          "metadata": {},
          "execution_count": 34
        }
      ],
      "source": [
        "from redis.asyncio import Redis\n",
        "from redisvl.index import AsyncSearchIndex\n",
        "\n",
        "client = Redis.from_url(REDIS_URL)\n",
        "\n",
        "index = AsyncSearchIndex.from_dict(schema)\n",
        "await index.set_client(client)"
      ]
    },
    {
      "cell_type": "markdown",
      "metadata": {
        "id": "w8Af-zneT6LH"
      },
      "source": [
        "### Retrieval Augmented Generation with Semantic Caching and Dense Propositions"
      ]
    },
    {
      "cell_type": "code",
      "source": [
        "from redisvl.extensions.llmcache import SemanticCache\n",
        "\n",
        "llmcache = SemanticCache(\n",
        "    name=\"llmcache\",\n",
        "    vectorizer=hf,\n",
        "    redis_url=REDIS_URL,\n",
        "    ttl=120,\n",
        "    distance_threshold=0.2\n",
        ")"
      ],
      "metadata": {
        "id": "6B_6P7HR5l3q",
        "colab": {
          "base_uri": "https://localhost:8080/",
          "height": 35
        },
        "outputId": "623b7ff7-81b2-4c4c-9268-ce19ff5fb7a9"
      },
      "execution_count": null,
      "outputs": [
        {
          "output_type": "display_data",
          "data": {
            "text/plain": [
              "<IPython.core.display.HTML object>"
            ],
            "text/html": [
              "\n",
              "  <style>\n",
              "    pre {\n",
              "        white-space: pre-wrap;\n",
              "    }\n",
              "  </style>\n",
              "  "
            ]
          },
          "metadata": {}
        },
        {
          "output_type": "stream",
          "name": "stdout",
          "text": [
            "11:07:50 redisvl.index.index INFO   Index already exists, not overwriting.\n"
          ]
        }
      ]
    },
    {
      "cell_type": "code",
      "execution_count": null,
      "metadata": {
        "id": "1V1Tio4-ZjmA",
        "colab": {
          "base_uri": "https://localhost:8080/",
          "height": 17
        },
        "outputId": "320966d7-7aae-4aa7-e3ab-dc0ff6165227"
      },
      "outputs": [
        {
          "output_type": "display_data",
          "data": {
            "text/plain": [
              "<IPython.core.display.HTML object>"
            ],
            "text/html": [
              "\n",
              "  <style>\n",
              "    pre {\n",
              "        white-space: pre-wrap;\n",
              "    }\n",
              "  </style>\n",
              "  "
            ]
          },
          "metadata": {}
        }
      ],
      "source": [
        "from functools import wraps\n",
        "\n",
        "async def answer_question(index: AsyncSearchIndex, query: str, kpi_list: str, **kwargs):\n",
        "    \"\"\"Answer the user's question\"\"\"\n",
        "    device = \"cuda:0\"\n",
        "\n",
        "\n",
        "    query_vector = hf.embed(query)\n",
        "    # Fetch context from Redis using vector search\n",
        "    context = await retrieve_context(index, query_vector)\n",
        "    prompt = promptify(query, context, kpi_list)\n",
        "\n",
        "    encodeds = tokenizer(prompt, return_tensors=\"pt\", add_special_tokens=True)\n",
        "\n",
        "    model_inputs = encodeds.to(device)\n",
        "\n",
        "    generated_ids = model.generate(**model_inputs, max_new_tokens=1000, do_sample=True, pad_token_id=tokenizer.eos_token_id)\n",
        "    decoded = tokenizer.decode(generated_ids[0], skip_special_tokens=True)\n",
        "\n",
        "    return decoded[decoded.rfind('~'):]\n",
        "\n",
        "async def retrieve_context(index: AsyncSearchIndex, query_vector) -> str:\n",
        "    \"\"\"Fetch the relevant context from Redis using vector search\"\"\"\n",
        "    results = await index.query(\n",
        "        VectorQuery(\n",
        "            vector=query_vector,\n",
        "            vector_field_name=\"text_embedding\",\n",
        "            return_fields=[\"content\"],\n",
        "            num_results=1\n",
        "        )\n",
        "    )\n",
        "\n",
        "    content = \"\\n\".join([result[\"content\"] for result in results])\n",
        "\n",
        "    DENSE_PROPS_PROMPT = \"\"\"\n",
        "    You are a helpful extractor tool. You will be presented with a long legal case\n",
        "    with various facts and rulings provided.\n",
        "\n",
        "    Decompose and summarize the raw content into clear and simple propositions,\n",
        "    ensuring they are interpretable out of context. Consider the following rules:\n",
        "    1. Split compound sentences into simpler dense phrases that retain existing\n",
        "    meaning.\n",
        "    2. Simplify technical jargon or wording if possible while retaining existing\n",
        "    meaning.\n",
        "    2. For any named entity that is accompanied by additional descriptive information,\n",
        "    separate this information into its own distinct proposition.\n",
        "    3. Decontextualize the proposition by adding necessary modifier to nouns or\n",
        "    entire sentences and replacing pronouns (e.g., \"it\", \"he\", \"she\", \"they\", \"this\", \"that\")\n",
        "    with the full name of the entities they refer to.\n",
        "    4. Provide these propositions as a list of points\n",
        "\n",
        "    Content to convert to simple propositions:\n",
        "    {content}\n",
        "\n",
        "    Provide the propositions HERE as a list of points:\n",
        "\n",
        "    \"\"\"\n",
        "\n",
        "    props = llm_client.text_generation(\n",
        "        prompt=DENSE_PROPS_PROMPT.format(content=content),\n",
        "        max_new_tokens=500,\n",
        "    ),\n",
        "\n",
        "    return props\n",
        "\n",
        "\n",
        "def promptify(query: str, context: str, kpi_list: str) -> str:\n",
        "    return f'''\n",
        "    <start_of_turn>user\n",
        "    You are a helpful business advisor assistant that has access\n",
        "    to business news along with the sentiment of the news, aiding you in providing\n",
        "    advice to entreprenuers with different situations. Provide exactly 10 steps the\n",
        "    user (entrepreneur) must take to grow their business, with a key focus on mentioned\n",
        "    kpis in query in different bullet points and a brief explanation about each point\n",
        "    for relevant kpis. Response should include 10 different points, and where relevant\n",
        "    PLEASE MENTION HOW A MENTIONED KPI IS IMPACTED BY SAID ACTION. Also try to keep\n",
        "    the actions tailored to specific kpis rather than general statements about improving\n",
        "    all kpis. A crucial point is, that if the user provides specific kpis, the actions\n",
        "    advised must be tailored to enhance those specific kpis, along with mentioning\n",
        "    how the action would improve said kpi and by how much, over how long. it is\n",
        "    imperative that you tackle the user concerns regarding these kpis. Further actions\n",
        "    can be tailored to the user industry, stage of business etc. Conclude the recommendations\n",
        "    properly, do not stop generation midway.You MUST generate 10 steps, no more,\n",
        "    no less Keep each point at most 2-3 lines.\n",
        "\n",
        "    Use the provided context below derived from relevant business news articles\n",
        "    and the general sentiment to answer the user's question. If you can't answer the user's\n",
        "    question, based on the context; do not guess.\n",
        "\n",
        "    query:\n",
        "\n",
        "    {query}\n",
        "\n",
        "    kpis to optimize:\n",
        "\n",
        "    {kpi_list}\n",
        "\n",
        "    Helpful context propostions:\n",
        "\n",
        "    {context}\n",
        "\n",
        "    <end_of_turn>\\n<start_of_turn>model~\n",
        "    '''"
      ]
    },
    {
      "cell_type": "markdown",
      "metadata": {
        "id": "kgVM_g01T6LP"
      },
      "source": [
        "### Let's test it out..."
      ]
    },
    {
      "cell_type": "code",
      "execution_count": null,
      "metadata": {
        "id": "pn-PoACdbihY",
        "colab": {
          "base_uri": "https://localhost:8080/",
          "height": 17
        },
        "outputId": "ea2f432d-e4e8-4e06-bcfa-bc22664cafb9"
      },
      "outputs": [
        {
          "output_type": "display_data",
          "data": {
            "text/plain": [
              "<IPython.core.display.HTML object>"
            ],
            "text/html": [
              "\n",
              "  <style>\n",
              "    pre {\n",
              "        white-space: pre-wrap;\n",
              "    }\n",
              "  </style>\n",
              "  "
            ]
          },
          "metadata": {}
        }
      ],
      "source": [
        "query = '''I'm the co-founder of a 3-year-old e-commerce startup specializing in sustainable home goods. We're currently experiencing challenges with our key performance indicators:\n",
        "\n",
        "    Our customer acquisition cost (CAC) has increased by 30% in the last quarter\n",
        "    Our average order value (AOV) has remained stagnant for the past 6 months\n",
        "    Our website conversion rate is hovering around 1.5%, below the industry average\n",
        "    Our customer lifetime value (CLV) to CAC ratio has dropped to 2:1\n",
        "    Our inventory turnover rate has decreased, leading to higher storage costs\n",
        "\n",
        "Our target market is environmentally conscious millennials and Gen Z consumers in urban areas. We've seen some success with social media marketing, but our email campaigns have underperformed. What are the top 10 actions we can take to improve these metrics and strengthen our startup's position in the competitive e-commerce landscape?'''"
      ]
    },
    {
      "cell_type": "code",
      "source": [
        "# kpis selected through qliksense dashboard\n",
        "kpi_list = 'customer acquisition cost, average order value, customer activation rate, customer lifetime value, inventory turnover rate'"
      ],
      "metadata": {
        "colab": {
          "base_uri": "https://localhost:8080/",
          "height": 17
        },
        "id": "NRJycBEAWN8I",
        "outputId": "1455ff39-cf49-4109-df4b-562c15fb3e0c"
      },
      "execution_count": null,
      "outputs": [
        {
          "output_type": "display_data",
          "data": {
            "text/plain": [
              "<IPython.core.display.HTML object>"
            ],
            "text/html": [
              "\n",
              "  <style>\n",
              "    pre {\n",
              "        white-space: pre-wrap;\n",
              "    }\n",
              "  </style>\n",
              "  "
            ]
          },
          "metadata": {}
        }
      ]
    },
    {
      "cell_type": "code",
      "execution_count": null,
      "metadata": {
        "id": "9M_iU6_hbv0J",
        "outputId": "642359ec-fdbe-451f-e539-eb397dfe00a6",
        "colab": {
          "base_uri": "https://localhost:8080/",
          "height": 67,
          "referenced_widgets": [
            "25aa6405fb014768a0aded1933d9ebae",
            "7253f068c4d54528a985262053cb85b3",
            "66ece02df8c6464e8283bdf4b9937c52",
            "5404efdf367e47cbb5845ff4276e63aa",
            "9f8f3068fbd94ff6a993e939ccfa2bc2",
            "a16be5e9c0434cb9801be135ecf50e2a",
            "9a523104b9774a07800b522a027260cf",
            "8219b08c25ff4eab944a8889d5b6cfb5",
            "2b2245db84ab4b92940a91d440022430",
            "e11af2d6571542ebbfae9b682dd55ab8",
            "a620bdcd2e3d487986e26393da39d404"
          ]
        }
      },
      "outputs": [
        {
          "output_type": "display_data",
          "data": {
            "text/plain": [
              "<IPython.core.display.HTML object>"
            ],
            "text/html": [
              "\n",
              "  <style>\n",
              "    pre {\n",
              "        white-space: pre-wrap;\n",
              "    }\n",
              "  </style>\n",
              "  "
            ]
          },
          "metadata": {}
        },
        {
          "output_type": "display_data",
          "data": {
            "text/plain": [
              "Batches:   0%|          | 0/1 [00:00<?, ?it/s]"
            ],
            "application/vnd.jupyter.widget-view+json": {
              "version_major": 2,
              "version_minor": 0,
              "model_id": "25aa6405fb014768a0aded1933d9ebae"
            }
          },
          "metadata": {}
        },
        {
          "output_type": "stream",
          "name": "stderr",
          "text": [
            "A decoder-only architecture is being used, but right-padding was detected! For correct generation results, please set `padding_side='left'` when initializing the tokenizer.\n"
          ]
        }
      ],
      "source": [
        "import asyncio\n",
        "\n",
        "advice = await asyncio.gather(*[\n",
        "    answer_question(index, query, kpi_list)\n",
        "])"
      ]
    },
    {
      "cell_type": "code",
      "execution_count": null,
      "metadata": {
        "id": "7SZM_xg3b9Gb",
        "colab": {
          "base_uri": "https://localhost:8080/",
          "height": 1000
        },
        "outputId": "e9618a5f-2d60-46ba-9a54-03b8ad6f3614"
      },
      "outputs": [
        {
          "output_type": "display_data",
          "data": {
            "text/plain": [
              "<IPython.core.display.HTML object>"
            ],
            "text/html": [
              "\n",
              "  <style>\n",
              "    pre {\n",
              "        white-space: pre-wrap;\n",
              "    }\n",
              "  </style>\n",
              "  "
            ]
          },
          "metadata": {}
        },
        {
          "output_type": "stream",
          "name": "stdout",
          "text": [
            "~\n",
            "     1. **Analyze Marketing Efforts**\n",
            "   - **Action:** Conduct a comprehensive audit of your current marketing strategies, focusing on email campaigns. Identify underperforming segments and areas, as well as any ineffective tactics.\n",
            "   - **KPI Enhancement:** Assess the impact of social media marketing on conversions and sales within a specified timeframe. Utilize tools such as Google Analytics to track the volume and effectiveness of your emails. \n",
            "\n",
            "   **KPI Impact:** Improving marketing techniques to enhance conversions and sales can directly increase the CAC, AOV, and CLV.\n",
            "\n",
            "2. **Enhance Customer Engagement**\n",
            "   - **Action:** Implement regular follow-up emails based on customer purchase patterns, offering additional resources or engaging content. Use automation tools for efficiency, to maintain engagement.\n",
            "   - **KPI Enhancement:** Establish metrics on email engagement (open rate, click-through rate) and respond promptly to inquiries.\n",
            "\n",
            "   **KPI Impact:** A strong customer engagement strategy can lead to higher customer retention rates, leading to improved CSAT scores and a less saturated market.\n",
            "\n",
            "3. **Optimizing Pricing Strategy**\n",
            "   - **Action:** Conduct a thorough review of your pricing structure, identifying any outliers or pricing inconsistencies. Adapt pricing strategies to compete within the market and incentivize higher spending.\n",
            "   - **KPI Enhancement:** Implement dynamic pricing models that adjust prices based on demand, and analyze the impact of price changes on conversions and sales.\n",
            "\n",
            "   **KPI Impact:** Well-defined pricing structures can improve conversions by making products more accessible and, in some cases, by incentivizing purchases.\n",
            "\n",
            "4. **Streamline Operations**\n",
            "   - **Action:** Implement efficient workflows that optimize production and delivery processes. Use technologies to improve inventory management and customer service by streamlining internal processes.\n",
            "   - **KPI Enhancement:** Identify areas within your business that can be streamlined to minimize waste, improve efficiency, and control costs.\n",
            "\n",
            "   **KPI Impact:** Streamlined operations can increase operational efficiency and reduce overhead expenses, leading to higher profit margins.\n",
            "\n",
            "5. **Leverage Loyalty Programs and Rewards**\n",
            "   - **Action:** Develop and incentivize customer loyalty programs, such as tiered discounts or reward points for repeat purchases. Use reward systems that align with your company's values and audience preferences.\n",
            "   - **KPI Enhancement:** Track key metrics (customer retention rate) over time to assess the effectiveness of the loyalty program, identifying areas for improvement.\n",
            "\n",
            "   **KPI Impact:** Increased loyalty reduces cost and improves customer lifetime value, enabling sustainable business growth.\n",
            "\n",
            "6. **Optimize Product Development and Pricing**\n",
            "   - **Action:** Regularly conduct market research to understand customer preferences and emerging trends. Use design and development processes that prioritize sustainability and ethical sourcing to differentiate your product lines.\n",
            "   - **KPI Enhancement:** Track the efficacy of product development cycles (time-to-market) alongside sales growth to identify areas for improvement.\n",
            "\n",
            "   **KPI Impact:** High-quality product features and pricing, gleaned from customer insights, enhance satisfaction, reduce churn rates, and keep your brand competitive.\n",
            "\n",
            "7. **Improve Service Delivery**\n",
            "   - **Action:** Train customer service teams to be compassionate and efficient, ensuring a seamless, customer-centric experience. Employ a consistent escalation system for addressing customer issues.\n",
            "   - **KPI Enhancement:** Implement NPS (net promoter score) tracking to gauge customer satisfaction and retention rates, reflecting improvements in service delivery and overall customer experience.\n",
            "\n",
            "   **KPI Impact:** Improving service delivery enhances customer loyalty through retention and positive brand experiences.\n",
            "\n",
            "8. **Implement a Sustainability Strategy**\n",
            "   - **Action:** Identify and prioritize sustainable practices across all facets of your business (supply chain, operations, and product development). Leverage green technology and eco-friendly materials in your products.\n",
            "   - **KPI Enhancement:** Set benchmarks for sustainable performance (e.g., net-zero emissions, water usage) and measure them over time to provide clarity on progress towards your goals.\n",
            "\n",
            "   **KPI Impact:** Strong sustainability practices can attract new customers who prioritize eco-friendly products, thereby mitigating competitive disadvantages.\n",
            "\n",
            "9. **Utilize Customer Feedback Loop**\n",
            "   - **Action:** Implement a systematic mechanism for collecting and analyzing customer feedback to identify pain points. Use tools like customer satisfaction surveys, focus groups, and online reviews to assess both qualitative and quantitative feedback.\n",
            "   - **KPI Enhancement:** Set up regular intervals for capturing customer feedback (monthly) to stay attuned to changes in sentiments and evolving needs within the market.\n",
            "\n",
            "   **KPI Impact:** Regular feedback loops lead to continuous improvement, as each feedback segment provides actionable insights that shape future marketing strategies.\n",
            "\n",
            "10. **Maintain Consistent Performance Tracking**\n",
            "    - **Action:** Implement a robust performance measurement system that includes multiple KPIs to track progress. Integrate with marketing and business performance dashboards for a holistic view.\n",
            "    - **KPI Enhancement:** Regularly (monthly or quarterly) update KPIs to identify trends in performance. Analyze these results\n"
          ]
        }
      ],
      "source": [
        "import pandas as pd\n",
        "\n",
        "output = advice[0].encode('utf-8').decode('unicode_escape')\n",
        "print(output)"
      ]
    },
    {
      "cell_type": "code",
      "source": [
        "import re\n",
        "from IPython.display import display, HTML\n",
        "\n",
        "# General pattern to extract action steps (compute regex pattern separately)\n",
        "pattern = r'\\d+\\. \\*\\*.*?\\n\\s*- \\*\\*Action:\\*\\*.*?\\n\\s*- \\*\\*KPI Enhancement:\\*\\*.*?(?:\\n\\s*\\*\\*KPI Impact:\\*\\*.*?\\n)+'\n",
        "\n",
        "# Extract action steps using regex\n",
        "action_steps = re.findall(pattern, output, re.DOTALL)\n",
        "action_steps = [step.strip() for step in action_steps]\n",
        "\n",
        "# Generate HTML content dynamically from extracted action steps\n",
        "html_content = '<style>' \\\n",
        "               '.action-step {font-family: Arial, sans-serif; background-color: #f9f9f9; border-left: 5px solid #4CAF50;' \\\n",
        "               'padding: 10px; margin: 10px 0; box-shadow: 0 4px 8px rgba(0, 0, 0, 0.1);}' \\\n",
        "               '.action-step h2 {color: #4CAF50; font-size: 18px; margin-bottom: 5px;}' \\\n",
        "               '.action-step p {font-size: 14px; color: #333;}' \\\n",
        "               '.kpi-impact {font-style: italic; color: #555;} </style>'\n",
        "\n",
        "# Iterate through each action step and convert it into HTML format\n",
        "for i, step in enumerate(action_steps):\n",
        "    title = step.split('**')[1]\n",
        "    action = re.search(r'\\*\\*Action:\\*\\*(.*?)\\n', step).group(1).strip()\n",
        "    kpi_enhancement = re.search(r'\\*\\*KPI Enhancement:\\*\\*(.*?)\\n', step).group(1).strip()\n",
        "    kpi_impact = re.search(r'\\*\\*KPI Impact:\\*\\*(.*?)$', step).group(1).strip()\n",
        "\n",
        "    step_html = f\"\"\"\n",
        "    <div class=\"action-step\">\n",
        "        <h2>{i + 1}. {title}</h2>\n",
        "        <p><strong>Action:</strong> {action}</p>\n",
        "        <p><strong>KPI Enhancement:</strong> {kpi_enhancement}</p>\n",
        "        <p class=\"kpi-impact\"><strong>KPI Impact:</strong> {kpi_impact}</p>\n",
        "    </div>\n",
        "    \"\"\"\n",
        "    html_content += step_html\n",
        "\n",
        "# Display formatted HTML content in Jupyter Notebook\n",
        "display(HTML(html_content))\n"
      ],
      "metadata": {
        "colab": {
          "base_uri": "https://localhost:8080/",
          "height": 1000
        },
        "id": "U8XLhwmQJwk8",
        "outputId": "a2737bb3-ede7-4a8c-86c0-c5adea97befb"
      },
      "execution_count": null,
      "outputs": [
        {
          "output_type": "display_data",
          "data": {
            "text/plain": [
              "<IPython.core.display.HTML object>"
            ],
            "text/html": [
              "\n",
              "  <style>\n",
              "    pre {\n",
              "        white-space: pre-wrap;\n",
              "    }\n",
              "  </style>\n",
              "  "
            ]
          },
          "metadata": {}
        },
        {
          "output_type": "display_data",
          "data": {
            "text/plain": [
              "<IPython.core.display.HTML object>"
            ],
            "text/html": [
              "<style>.action-step {font-family: Arial, sans-serif; background-color: #f9f9f9; border-left: 5px solid #4CAF50;padding: 10px; margin: 10px 0; box-shadow: 0 4px 8px rgba(0, 0, 0, 0.1);}.action-step h2 {color: #4CAF50; font-size: 18px; margin-bottom: 5px;}.action-step p {font-size: 14px; color: #333;}.kpi-impact {font-style: italic; color: #555;} </style>\n",
              "    <div class=\"action-step\">\n",
              "        <h2>1. Analyze Marketing Efforts</h2>\n",
              "        <p><strong>Action:</strong> Conduct a comprehensive audit of your current marketing strategies, focusing on email campaigns. Identify underperforming segments and areas, as well as any ineffective tactics.</p>\n",
              "        <p><strong>KPI Enhancement:</strong> Assess the impact of social media marketing on conversions and sales within a specified timeframe. Utilize tools such as Google Analytics to track the volume and effectiveness of your emails.</p>\n",
              "        <p class=\"kpi-impact\"><strong>KPI Impact:</strong> Improving marketing techniques to enhance conversions and sales can directly increase the CAC, AOV, and CLV.</p>\n",
              "    </div>\n",
              "    \n",
              "    <div class=\"action-step\">\n",
              "        <h2>2. Enhance Customer Engagement</h2>\n",
              "        <p><strong>Action:</strong> Implement regular follow-up emails based on customer purchase patterns, offering additional resources or engaging content. Use automation tools for efficiency, to maintain engagement.</p>\n",
              "        <p><strong>KPI Enhancement:</strong> Establish metrics on email engagement (open rate, click-through rate) and respond promptly to inquiries.</p>\n",
              "        <p class=\"kpi-impact\"><strong>KPI Impact:</strong> A strong customer engagement strategy can lead to higher customer retention rates, leading to improved CSAT scores and a less saturated market.</p>\n",
              "    </div>\n",
              "    \n",
              "    <div class=\"action-step\">\n",
              "        <h2>3. Optimizing Pricing Strategy</h2>\n",
              "        <p><strong>Action:</strong> Conduct a thorough review of your pricing structure, identifying any outliers or pricing inconsistencies. Adapt pricing strategies to compete within the market and incentivize higher spending.</p>\n",
              "        <p><strong>KPI Enhancement:</strong> Implement dynamic pricing models that adjust prices based on demand, and analyze the impact of price changes on conversions and sales.</p>\n",
              "        <p class=\"kpi-impact\"><strong>KPI Impact:</strong> Well-defined pricing structures can improve conversions by making products more accessible and, in some cases, by incentivizing purchases.</p>\n",
              "    </div>\n",
              "    \n",
              "    <div class=\"action-step\">\n",
              "        <h2>4. Streamline Operations</h2>\n",
              "        <p><strong>Action:</strong> Implement efficient workflows that optimize production and delivery processes. Use technologies to improve inventory management and customer service by streamlining internal processes.</p>\n",
              "        <p><strong>KPI Enhancement:</strong> Identify areas within your business that can be streamlined to minimize waste, improve efficiency, and control costs.</p>\n",
              "        <p class=\"kpi-impact\"><strong>KPI Impact:</strong> Streamlined operations can increase operational efficiency and reduce overhead expenses, leading to higher profit margins.</p>\n",
              "    </div>\n",
              "    \n",
              "    <div class=\"action-step\">\n",
              "        <h2>5. Leverage Loyalty Programs and Rewards</h2>\n",
              "        <p><strong>Action:</strong> Develop and incentivize customer loyalty programs, such as tiered discounts or reward points for repeat purchases. Use reward systems that align with your company's values and audience preferences.</p>\n",
              "        <p><strong>KPI Enhancement:</strong> Track key metrics (customer retention rate) over time to assess the effectiveness of the loyalty program, identifying areas for improvement.</p>\n",
              "        <p class=\"kpi-impact\"><strong>KPI Impact:</strong> Increased loyalty reduces cost and improves customer lifetime value, enabling sustainable business growth.</p>\n",
              "    </div>\n",
              "    \n",
              "    <div class=\"action-step\">\n",
              "        <h2>6. Optimize Product Development and Pricing</h2>\n",
              "        <p><strong>Action:</strong> Regularly conduct market research to understand customer preferences and emerging trends. Use design and development processes that prioritize sustainability and ethical sourcing to differentiate your product lines.</p>\n",
              "        <p><strong>KPI Enhancement:</strong> Track the efficacy of product development cycles (time-to-market) alongside sales growth to identify areas for improvement.</p>\n",
              "        <p class=\"kpi-impact\"><strong>KPI Impact:</strong> High-quality product features and pricing, gleaned from customer insights, enhance satisfaction, reduce churn rates, and keep your brand competitive.</p>\n",
              "    </div>\n",
              "    \n",
              "    <div class=\"action-step\">\n",
              "        <h2>7. Improve Service Delivery</h2>\n",
              "        <p><strong>Action:</strong> Train customer service teams to be compassionate and efficient, ensuring a seamless, customer-centric experience. Employ a consistent escalation system for addressing customer issues.</p>\n",
              "        <p><strong>KPI Enhancement:</strong> Implement NPS (net promoter score) tracking to gauge customer satisfaction and retention rates, reflecting improvements in service delivery and overall customer experience.</p>\n",
              "        <p class=\"kpi-impact\"><strong>KPI Impact:</strong> Improving service delivery enhances customer loyalty through retention and positive brand experiences.</p>\n",
              "    </div>\n",
              "    \n",
              "    <div class=\"action-step\">\n",
              "        <h2>8. Implement a Sustainability Strategy</h2>\n",
              "        <p><strong>Action:</strong> Identify and prioritize sustainable practices across all facets of your business (supply chain, operations, and product development). Leverage green technology and eco-friendly materials in your products.</p>\n",
              "        <p><strong>KPI Enhancement:</strong> Set benchmarks for sustainable performance (e.g., net-zero emissions, water usage) and measure them over time to provide clarity on progress towards your goals.</p>\n",
              "        <p class=\"kpi-impact\"><strong>KPI Impact:</strong> Strong sustainability practices can attract new customers who prioritize eco-friendly products, thereby mitigating competitive disadvantages.</p>\n",
              "    </div>\n",
              "    \n",
              "    <div class=\"action-step\">\n",
              "        <h2>9. Utilize Customer Feedback Loop</h2>\n",
              "        <p><strong>Action:</strong> Implement a systematic mechanism for collecting and analyzing customer feedback to identify pain points. Use tools like customer satisfaction surveys, focus groups, and online reviews to assess both qualitative and quantitative feedback.</p>\n",
              "        <p><strong>KPI Enhancement:</strong> Set up regular intervals for capturing customer feedback (monthly) to stay attuned to changes in sentiments and evolving needs within the market.</p>\n",
              "        <p class=\"kpi-impact\"><strong>KPI Impact:</strong> Regular feedback loops lead to continuous improvement, as each feedback segment provides actionable insights that shape future marketing strategies.</p>\n",
              "    </div>\n",
              "    "
            ]
          },
          "metadata": {}
        }
      ]
    },
    {
      "cell_type": "markdown",
      "metadata": {
        "id": "Wscs4Mvo1ujD"
      },
      "source": [
        "## Cleanup\n",
        "\n",
        "Clean up the database."
      ]
    },
    {
      "cell_type": "code",
      "execution_count": null,
      "metadata": {
        "id": "On6yNuQn1ujD"
      },
      "outputs": [],
      "source": [
        "# await index.client.flushall()"
      ]
    }
  ],
  "metadata": {
    "accelerator": "GPU",
    "colab": {
      "gpuType": "T4",
      "provenance": [],
      "name": "redisvl-gemma-quant-business.ipynb",
      "include_colab_link": true
    },
    "kernelspec": {
      "display_name": "Python 3",
      "name": "python3"
    },
    "language_info": {
      "codemirror_mode": {
        "name": "ipython",
        "version": 3
      },
      "file_extension": ".py",
      "mimetype": "text/x-python",
      "name": "python",
      "nbconvert_exporter": "python",
      "pygments_lexer": "ipython3",
      "version": "3.11.4"
    },
    "widgets": {
      "application/vnd.jupyter.widget-state+json": {
        "b9ceb461478c4d1e96e6332d82ca0ee4": {
          "model_module": "@jupyter-widgets/controls",
          "model_name": "VBoxModel",
          "model_module_version": "1.5.0",
          "state": {
            "_dom_classes": [],
            "_model_module": "@jupyter-widgets/controls",
            "_model_module_version": "1.5.0",
            "_model_name": "VBoxModel",
            "_view_count": null,
            "_view_module": "@jupyter-widgets/controls",
            "_view_module_version": "1.5.0",
            "_view_name": "VBoxView",
            "box_style": "",
            "children": [],
            "layout": "IPY_MODEL_418f9f5972634382a2379e639a6e7ef8"
          }
        },
        "bdc7238ed87d425d843266313b56ac94": {
          "model_module": "@jupyter-widgets/controls",
          "model_name": "HTMLModel",
          "model_module_version": "1.5.0",
          "state": {
            "_dom_classes": [],
            "_model_module": "@jupyter-widgets/controls",
            "_model_module_version": "1.5.0",
            "_model_name": "HTMLModel",
            "_view_count": null,
            "_view_module": "@jupyter-widgets/controls",
            "_view_module_version": "1.5.0",
            "_view_name": "HTMLView",
            "description": "",
            "description_tooltip": null,
            "layout": "IPY_MODEL_8e83386fa0df44e3811d5422507e05e8",
            "placeholder": "​",
            "style": "IPY_MODEL_134685f5be994413bc56b4d46dc8e99b",
            "value": "<center> <img\nsrc=https://huggingface.co/front/assets/huggingface_logo-noborder.svg\nalt='Hugging Face'> <br> Copy a token from <a\nhref=\"https://huggingface.co/settings/tokens\" target=\"_blank\">your Hugging Face\ntokens page</a> and paste it below. <br> Immediately click login after copying\nyour token or it might be stored in plain text in this notebook file. </center>"
          }
        },
        "56fe4822a8ab407ea68b76617ea156e4": {
          "model_module": "@jupyter-widgets/controls",
          "model_name": "PasswordModel",
          "model_module_version": "1.5.0",
          "state": {
            "_dom_classes": [],
            "_model_module": "@jupyter-widgets/controls",
            "_model_module_version": "1.5.0",
            "_model_name": "PasswordModel",
            "_view_count": null,
            "_view_module": "@jupyter-widgets/controls",
            "_view_module_version": "1.5.0",
            "_view_name": "PasswordView",
            "continuous_update": true,
            "description": "Token:",
            "description_tooltip": null,
            "disabled": false,
            "layout": "IPY_MODEL_64be91d4ea5e41ab9df746ea33a0ecf4",
            "placeholder": "​",
            "style": "IPY_MODEL_232afaa555044ea285c03b7844e7e48c",
            "value": ""
          }
        },
        "d2fbecdd7ba74aad89ad8d9bbc02f572": {
          "model_module": "@jupyter-widgets/controls",
          "model_name": "CheckboxModel",
          "model_module_version": "1.5.0",
          "state": {
            "_dom_classes": [],
            "_model_module": "@jupyter-widgets/controls",
            "_model_module_version": "1.5.0",
            "_model_name": "CheckboxModel",
            "_view_count": null,
            "_view_module": "@jupyter-widgets/controls",
            "_view_module_version": "1.5.0",
            "_view_name": "CheckboxView",
            "description": "Add token as git credential?",
            "description_tooltip": null,
            "disabled": false,
            "indent": true,
            "layout": "IPY_MODEL_84dc617b48fd4f93aec99a11542f3d3f",
            "style": "IPY_MODEL_6cdc62b750904140a098e4a04e8621b9",
            "value": true
          }
        },
        "97d15e4936df43709dae5cd548ef3441": {
          "model_module": "@jupyter-widgets/controls",
          "model_name": "ButtonModel",
          "model_module_version": "1.5.0",
          "state": {
            "_dom_classes": [],
            "_model_module": "@jupyter-widgets/controls",
            "_model_module_version": "1.5.0",
            "_model_name": "ButtonModel",
            "_view_count": null,
            "_view_module": "@jupyter-widgets/controls",
            "_view_module_version": "1.5.0",
            "_view_name": "ButtonView",
            "button_style": "",
            "description": "Login",
            "disabled": false,
            "icon": "",
            "layout": "IPY_MODEL_5e08afada19f48ddb92cfc1f884959f3",
            "style": "IPY_MODEL_819255f9f0f64035a4d0ccc65a7ae4bf",
            "tooltip": ""
          }
        },
        "0bb561c8a13f4e0e891cf6ea6630b706": {
          "model_module": "@jupyter-widgets/controls",
          "model_name": "HTMLModel",
          "model_module_version": "1.5.0",
          "state": {
            "_dom_classes": [],
            "_model_module": "@jupyter-widgets/controls",
            "_model_module_version": "1.5.0",
            "_model_name": "HTMLModel",
            "_view_count": null,
            "_view_module": "@jupyter-widgets/controls",
            "_view_module_version": "1.5.0",
            "_view_name": "HTMLView",
            "description": "",
            "description_tooltip": null,
            "layout": "IPY_MODEL_266e4d7341c7457c83564114c97aee94",
            "placeholder": "​",
            "style": "IPY_MODEL_cc587e193aa94bcd89de74793c618205",
            "value": "\n<b>Pro Tip:</b> If you don't already have one, you can create a dedicated\n'notebooks' token with 'write' access, that you can then easily reuse for all\nnotebooks. </center>"
          }
        },
        "418f9f5972634382a2379e639a6e7ef8": {
          "model_module": "@jupyter-widgets/base",
          "model_name": "LayoutModel",
          "model_module_version": "1.2.0",
          "state": {
            "_model_module": "@jupyter-widgets/base",
            "_model_module_version": "1.2.0",
            "_model_name": "LayoutModel",
            "_view_count": null,
            "_view_module": "@jupyter-widgets/base",
            "_view_module_version": "1.2.0",
            "_view_name": "LayoutView",
            "align_content": null,
            "align_items": "center",
            "align_self": null,
            "border": null,
            "bottom": null,
            "display": "flex",
            "flex": null,
            "flex_flow": "column",
            "grid_area": null,
            "grid_auto_columns": null,
            "grid_auto_flow": null,
            "grid_auto_rows": null,
            "grid_column": null,
            "grid_gap": null,
            "grid_row": null,
            "grid_template_areas": null,
            "grid_template_columns": null,
            "grid_template_rows": null,
            "height": null,
            "justify_content": null,
            "justify_items": null,
            "left": null,
            "margin": null,
            "max_height": null,
            "max_width": null,
            "min_height": null,
            "min_width": null,
            "object_fit": null,
            "object_position": null,
            "order": null,
            "overflow": null,
            "overflow_x": null,
            "overflow_y": null,
            "padding": null,
            "right": null,
            "top": null,
            "visibility": null,
            "width": "50%"
          }
        },
        "8e83386fa0df44e3811d5422507e05e8": {
          "model_module": "@jupyter-widgets/base",
          "model_name": "LayoutModel",
          "model_module_version": "1.2.0",
          "state": {
            "_model_module": "@jupyter-widgets/base",
            "_model_module_version": "1.2.0",
            "_model_name": "LayoutModel",
            "_view_count": null,
            "_view_module": "@jupyter-widgets/base",
            "_view_module_version": "1.2.0",
            "_view_name": "LayoutView",
            "align_content": null,
            "align_items": null,
            "align_self": null,
            "border": null,
            "bottom": null,
            "display": null,
            "flex": null,
            "flex_flow": null,
            "grid_area": null,
            "grid_auto_columns": null,
            "grid_auto_flow": null,
            "grid_auto_rows": null,
            "grid_column": null,
            "grid_gap": null,
            "grid_row": null,
            "grid_template_areas": null,
            "grid_template_columns": null,
            "grid_template_rows": null,
            "height": null,
            "justify_content": null,
            "justify_items": null,
            "left": null,
            "margin": null,
            "max_height": null,
            "max_width": null,
            "min_height": null,
            "min_width": null,
            "object_fit": null,
            "object_position": null,
            "order": null,
            "overflow": null,
            "overflow_x": null,
            "overflow_y": null,
            "padding": null,
            "right": null,
            "top": null,
            "visibility": null,
            "width": null
          }
        },
        "134685f5be994413bc56b4d46dc8e99b": {
          "model_module": "@jupyter-widgets/controls",
          "model_name": "DescriptionStyleModel",
          "model_module_version": "1.5.0",
          "state": {
            "_model_module": "@jupyter-widgets/controls",
            "_model_module_version": "1.5.0",
            "_model_name": "DescriptionStyleModel",
            "_view_count": null,
            "_view_module": "@jupyter-widgets/base",
            "_view_module_version": "1.2.0",
            "_view_name": "StyleView",
            "description_width": ""
          }
        },
        "64be91d4ea5e41ab9df746ea33a0ecf4": {
          "model_module": "@jupyter-widgets/base",
          "model_name": "LayoutModel",
          "model_module_version": "1.2.0",
          "state": {
            "_model_module": "@jupyter-widgets/base",
            "_model_module_version": "1.2.0",
            "_model_name": "LayoutModel",
            "_view_count": null,
            "_view_module": "@jupyter-widgets/base",
            "_view_module_version": "1.2.0",
            "_view_name": "LayoutView",
            "align_content": null,
            "align_items": null,
            "align_self": null,
            "border": null,
            "bottom": null,
            "display": null,
            "flex": null,
            "flex_flow": null,
            "grid_area": null,
            "grid_auto_columns": null,
            "grid_auto_flow": null,
            "grid_auto_rows": null,
            "grid_column": null,
            "grid_gap": null,
            "grid_row": null,
            "grid_template_areas": null,
            "grid_template_columns": null,
            "grid_template_rows": null,
            "height": null,
            "justify_content": null,
            "justify_items": null,
            "left": null,
            "margin": null,
            "max_height": null,
            "max_width": null,
            "min_height": null,
            "min_width": null,
            "object_fit": null,
            "object_position": null,
            "order": null,
            "overflow": null,
            "overflow_x": null,
            "overflow_y": null,
            "padding": null,
            "right": null,
            "top": null,
            "visibility": null,
            "width": null
          }
        },
        "232afaa555044ea285c03b7844e7e48c": {
          "model_module": "@jupyter-widgets/controls",
          "model_name": "DescriptionStyleModel",
          "model_module_version": "1.5.0",
          "state": {
            "_model_module": "@jupyter-widgets/controls",
            "_model_module_version": "1.5.0",
            "_model_name": "DescriptionStyleModel",
            "_view_count": null,
            "_view_module": "@jupyter-widgets/base",
            "_view_module_version": "1.2.0",
            "_view_name": "StyleView",
            "description_width": ""
          }
        },
        "84dc617b48fd4f93aec99a11542f3d3f": {
          "model_module": "@jupyter-widgets/base",
          "model_name": "LayoutModel",
          "model_module_version": "1.2.0",
          "state": {
            "_model_module": "@jupyter-widgets/base",
            "_model_module_version": "1.2.0",
            "_model_name": "LayoutModel",
            "_view_count": null,
            "_view_module": "@jupyter-widgets/base",
            "_view_module_version": "1.2.0",
            "_view_name": "LayoutView",
            "align_content": null,
            "align_items": null,
            "align_self": null,
            "border": null,
            "bottom": null,
            "display": null,
            "flex": null,
            "flex_flow": null,
            "grid_area": null,
            "grid_auto_columns": null,
            "grid_auto_flow": null,
            "grid_auto_rows": null,
            "grid_column": null,
            "grid_gap": null,
            "grid_row": null,
            "grid_template_areas": null,
            "grid_template_columns": null,
            "grid_template_rows": null,
            "height": null,
            "justify_content": null,
            "justify_items": null,
            "left": null,
            "margin": null,
            "max_height": null,
            "max_width": null,
            "min_height": null,
            "min_width": null,
            "object_fit": null,
            "object_position": null,
            "order": null,
            "overflow": null,
            "overflow_x": null,
            "overflow_y": null,
            "padding": null,
            "right": null,
            "top": null,
            "visibility": null,
            "width": null
          }
        },
        "6cdc62b750904140a098e4a04e8621b9": {
          "model_module": "@jupyter-widgets/controls",
          "model_name": "DescriptionStyleModel",
          "model_module_version": "1.5.0",
          "state": {
            "_model_module": "@jupyter-widgets/controls",
            "_model_module_version": "1.5.0",
            "_model_name": "DescriptionStyleModel",
            "_view_count": null,
            "_view_module": "@jupyter-widgets/base",
            "_view_module_version": "1.2.0",
            "_view_name": "StyleView",
            "description_width": ""
          }
        },
        "5e08afada19f48ddb92cfc1f884959f3": {
          "model_module": "@jupyter-widgets/base",
          "model_name": "LayoutModel",
          "model_module_version": "1.2.0",
          "state": {
            "_model_module": "@jupyter-widgets/base",
            "_model_module_version": "1.2.0",
            "_model_name": "LayoutModel",
            "_view_count": null,
            "_view_module": "@jupyter-widgets/base",
            "_view_module_version": "1.2.0",
            "_view_name": "LayoutView",
            "align_content": null,
            "align_items": null,
            "align_self": null,
            "border": null,
            "bottom": null,
            "display": null,
            "flex": null,
            "flex_flow": null,
            "grid_area": null,
            "grid_auto_columns": null,
            "grid_auto_flow": null,
            "grid_auto_rows": null,
            "grid_column": null,
            "grid_gap": null,
            "grid_row": null,
            "grid_template_areas": null,
            "grid_template_columns": null,
            "grid_template_rows": null,
            "height": null,
            "justify_content": null,
            "justify_items": null,
            "left": null,
            "margin": null,
            "max_height": null,
            "max_width": null,
            "min_height": null,
            "min_width": null,
            "object_fit": null,
            "object_position": null,
            "order": null,
            "overflow": null,
            "overflow_x": null,
            "overflow_y": null,
            "padding": null,
            "right": null,
            "top": null,
            "visibility": null,
            "width": null
          }
        },
        "819255f9f0f64035a4d0ccc65a7ae4bf": {
          "model_module": "@jupyter-widgets/controls",
          "model_name": "ButtonStyleModel",
          "model_module_version": "1.5.0",
          "state": {
            "_model_module": "@jupyter-widgets/controls",
            "_model_module_version": "1.5.0",
            "_model_name": "ButtonStyleModel",
            "_view_count": null,
            "_view_module": "@jupyter-widgets/base",
            "_view_module_version": "1.2.0",
            "_view_name": "StyleView",
            "button_color": null,
            "font_weight": ""
          }
        },
        "266e4d7341c7457c83564114c97aee94": {
          "model_module": "@jupyter-widgets/base",
          "model_name": "LayoutModel",
          "model_module_version": "1.2.0",
          "state": {
            "_model_module": "@jupyter-widgets/base",
            "_model_module_version": "1.2.0",
            "_model_name": "LayoutModel",
            "_view_count": null,
            "_view_module": "@jupyter-widgets/base",
            "_view_module_version": "1.2.0",
            "_view_name": "LayoutView",
            "align_content": null,
            "align_items": null,
            "align_self": null,
            "border": null,
            "bottom": null,
            "display": null,
            "flex": null,
            "flex_flow": null,
            "grid_area": null,
            "grid_auto_columns": null,
            "grid_auto_flow": null,
            "grid_auto_rows": null,
            "grid_column": null,
            "grid_gap": null,
            "grid_row": null,
            "grid_template_areas": null,
            "grid_template_columns": null,
            "grid_template_rows": null,
            "height": null,
            "justify_content": null,
            "justify_items": null,
            "left": null,
            "margin": null,
            "max_height": null,
            "max_width": null,
            "min_height": null,
            "min_width": null,
            "object_fit": null,
            "object_position": null,
            "order": null,
            "overflow": null,
            "overflow_x": null,
            "overflow_y": null,
            "padding": null,
            "right": null,
            "top": null,
            "visibility": null,
            "width": null
          }
        },
        "cc587e193aa94bcd89de74793c618205": {
          "model_module": "@jupyter-widgets/controls",
          "model_name": "DescriptionStyleModel",
          "model_module_version": "1.5.0",
          "state": {
            "_model_module": "@jupyter-widgets/controls",
            "_model_module_version": "1.5.0",
            "_model_name": "DescriptionStyleModel",
            "_view_count": null,
            "_view_module": "@jupyter-widgets/base",
            "_view_module_version": "1.2.0",
            "_view_name": "StyleView",
            "description_width": ""
          }
        },
        "92a7c61bfdbd489c9c088141c5b09f8f": {
          "model_module": "@jupyter-widgets/controls",
          "model_name": "LabelModel",
          "model_module_version": "1.5.0",
          "state": {
            "_dom_classes": [],
            "_model_module": "@jupyter-widgets/controls",
            "_model_module_version": "1.5.0",
            "_model_name": "LabelModel",
            "_view_count": null,
            "_view_module": "@jupyter-widgets/controls",
            "_view_module_version": "1.5.0",
            "_view_name": "LabelView",
            "description": "",
            "description_tooltip": null,
            "layout": "IPY_MODEL_a5e4e38dd2a74807b09c839d959fb133",
            "placeholder": "​",
            "style": "IPY_MODEL_59ed60cc18ce4085b1974ecce085cc18",
            "value": "Connecting..."
          }
        },
        "a5e4e38dd2a74807b09c839d959fb133": {
          "model_module": "@jupyter-widgets/base",
          "model_name": "LayoutModel",
          "model_module_version": "1.2.0",
          "state": {
            "_model_module": "@jupyter-widgets/base",
            "_model_module_version": "1.2.0",
            "_model_name": "LayoutModel",
            "_view_count": null,
            "_view_module": "@jupyter-widgets/base",
            "_view_module_version": "1.2.0",
            "_view_name": "LayoutView",
            "align_content": null,
            "align_items": null,
            "align_self": null,
            "border": null,
            "bottom": null,
            "display": null,
            "flex": null,
            "flex_flow": null,
            "grid_area": null,
            "grid_auto_columns": null,
            "grid_auto_flow": null,
            "grid_auto_rows": null,
            "grid_column": null,
            "grid_gap": null,
            "grid_row": null,
            "grid_template_areas": null,
            "grid_template_columns": null,
            "grid_template_rows": null,
            "height": null,
            "justify_content": null,
            "justify_items": null,
            "left": null,
            "margin": null,
            "max_height": null,
            "max_width": null,
            "min_height": null,
            "min_width": null,
            "object_fit": null,
            "object_position": null,
            "order": null,
            "overflow": null,
            "overflow_x": null,
            "overflow_y": null,
            "padding": null,
            "right": null,
            "top": null,
            "visibility": null,
            "width": null
          }
        },
        "59ed60cc18ce4085b1974ecce085cc18": {
          "model_module": "@jupyter-widgets/controls",
          "model_name": "DescriptionStyleModel",
          "model_module_version": "1.5.0",
          "state": {
            "_model_module": "@jupyter-widgets/controls",
            "_model_module_version": "1.5.0",
            "_model_name": "DescriptionStyleModel",
            "_view_count": null,
            "_view_module": "@jupyter-widgets/base",
            "_view_module_version": "1.2.0",
            "_view_name": "StyleView",
            "description_width": ""
          }
        },
        "c8be284ef60d4c57a7250bd430cd847e": {
          "model_module": "@jupyter-widgets/controls",
          "model_name": "HBoxModel",
          "model_module_version": "1.5.0",
          "state": {
            "_dom_classes": [],
            "_model_module": "@jupyter-widgets/controls",
            "_model_module_version": "1.5.0",
            "_model_name": "HBoxModel",
            "_view_count": null,
            "_view_module": "@jupyter-widgets/controls",
            "_view_module_version": "1.5.0",
            "_view_name": "HBoxView",
            "box_style": "",
            "children": [
              "IPY_MODEL_af271a9eb0d542b59c7f92c5aedcb50e",
              "IPY_MODEL_c002ccfc09114435922553d2d257d768",
              "IPY_MODEL_35404e0d6b1f4a6a8740c138a450166e"
            ],
            "layout": "IPY_MODEL_c1300200faf540dab4d4cefe7cc1d6a5"
          }
        },
        "af271a9eb0d542b59c7f92c5aedcb50e": {
          "model_module": "@jupyter-widgets/controls",
          "model_name": "HTMLModel",
          "model_module_version": "1.5.0",
          "state": {
            "_dom_classes": [],
            "_model_module": "@jupyter-widgets/controls",
            "_model_module_version": "1.5.0",
            "_model_name": "HTMLModel",
            "_view_count": null,
            "_view_module": "@jupyter-widgets/controls",
            "_view_module_version": "1.5.0",
            "_view_name": "HTMLView",
            "description": "",
            "description_tooltip": null,
            "layout": "IPY_MODEL_ecafc7bc37e84f1893328efc8ace3ab7",
            "placeholder": "​",
            "style": "IPY_MODEL_94b4bcc0c2004087b1c6ed1412423cc2",
            "value": "Loading checkpoint shards: 100%"
          }
        },
        "c002ccfc09114435922553d2d257d768": {
          "model_module": "@jupyter-widgets/controls",
          "model_name": "FloatProgressModel",
          "model_module_version": "1.5.0",
          "state": {
            "_dom_classes": [],
            "_model_module": "@jupyter-widgets/controls",
            "_model_module_version": "1.5.0",
            "_model_name": "FloatProgressModel",
            "_view_count": null,
            "_view_module": "@jupyter-widgets/controls",
            "_view_module_version": "1.5.0",
            "_view_name": "ProgressView",
            "bar_style": "success",
            "description": "",
            "description_tooltip": null,
            "layout": "IPY_MODEL_9993ba1b0030446d862e5f3c5d8b4d64",
            "max": 2,
            "min": 0,
            "orientation": "horizontal",
            "style": "IPY_MODEL_56f737e1541e44e0a6545cda15953364",
            "value": 2
          }
        },
        "35404e0d6b1f4a6a8740c138a450166e": {
          "model_module": "@jupyter-widgets/controls",
          "model_name": "HTMLModel",
          "model_module_version": "1.5.0",
          "state": {
            "_dom_classes": [],
            "_model_module": "@jupyter-widgets/controls",
            "_model_module_version": "1.5.0",
            "_model_name": "HTMLModel",
            "_view_count": null,
            "_view_module": "@jupyter-widgets/controls",
            "_view_module_version": "1.5.0",
            "_view_name": "HTMLView",
            "description": "",
            "description_tooltip": null,
            "layout": "IPY_MODEL_dc4d05c0e01a4bc38a495848ac048741",
            "placeholder": "​",
            "style": "IPY_MODEL_5e96a5a4ef544ad3ad4d8655b2ae825e",
            "value": " 2/2 [00:18&lt;00:00,  7.71s/it]"
          }
        },
        "c1300200faf540dab4d4cefe7cc1d6a5": {
          "model_module": "@jupyter-widgets/base",
          "model_name": "LayoutModel",
          "model_module_version": "1.2.0",
          "state": {
            "_model_module": "@jupyter-widgets/base",
            "_model_module_version": "1.2.0",
            "_model_name": "LayoutModel",
            "_view_count": null,
            "_view_module": "@jupyter-widgets/base",
            "_view_module_version": "1.2.0",
            "_view_name": "LayoutView",
            "align_content": null,
            "align_items": null,
            "align_self": null,
            "border": null,
            "bottom": null,
            "display": null,
            "flex": null,
            "flex_flow": null,
            "grid_area": null,
            "grid_auto_columns": null,
            "grid_auto_flow": null,
            "grid_auto_rows": null,
            "grid_column": null,
            "grid_gap": null,
            "grid_row": null,
            "grid_template_areas": null,
            "grid_template_columns": null,
            "grid_template_rows": null,
            "height": null,
            "justify_content": null,
            "justify_items": null,
            "left": null,
            "margin": null,
            "max_height": null,
            "max_width": null,
            "min_height": null,
            "min_width": null,
            "object_fit": null,
            "object_position": null,
            "order": null,
            "overflow": null,
            "overflow_x": null,
            "overflow_y": null,
            "padding": null,
            "right": null,
            "top": null,
            "visibility": null,
            "width": null
          }
        },
        "ecafc7bc37e84f1893328efc8ace3ab7": {
          "model_module": "@jupyter-widgets/base",
          "model_name": "LayoutModel",
          "model_module_version": "1.2.0",
          "state": {
            "_model_module": "@jupyter-widgets/base",
            "_model_module_version": "1.2.0",
            "_model_name": "LayoutModel",
            "_view_count": null,
            "_view_module": "@jupyter-widgets/base",
            "_view_module_version": "1.2.0",
            "_view_name": "LayoutView",
            "align_content": null,
            "align_items": null,
            "align_self": null,
            "border": null,
            "bottom": null,
            "display": null,
            "flex": null,
            "flex_flow": null,
            "grid_area": null,
            "grid_auto_columns": null,
            "grid_auto_flow": null,
            "grid_auto_rows": null,
            "grid_column": null,
            "grid_gap": null,
            "grid_row": null,
            "grid_template_areas": null,
            "grid_template_columns": null,
            "grid_template_rows": null,
            "height": null,
            "justify_content": null,
            "justify_items": null,
            "left": null,
            "margin": null,
            "max_height": null,
            "max_width": null,
            "min_height": null,
            "min_width": null,
            "object_fit": null,
            "object_position": null,
            "order": null,
            "overflow": null,
            "overflow_x": null,
            "overflow_y": null,
            "padding": null,
            "right": null,
            "top": null,
            "visibility": null,
            "width": null
          }
        },
        "94b4bcc0c2004087b1c6ed1412423cc2": {
          "model_module": "@jupyter-widgets/controls",
          "model_name": "DescriptionStyleModel",
          "model_module_version": "1.5.0",
          "state": {
            "_model_module": "@jupyter-widgets/controls",
            "_model_module_version": "1.5.0",
            "_model_name": "DescriptionStyleModel",
            "_view_count": null,
            "_view_module": "@jupyter-widgets/base",
            "_view_module_version": "1.2.0",
            "_view_name": "StyleView",
            "description_width": ""
          }
        },
        "9993ba1b0030446d862e5f3c5d8b4d64": {
          "model_module": "@jupyter-widgets/base",
          "model_name": "LayoutModel",
          "model_module_version": "1.2.0",
          "state": {
            "_model_module": "@jupyter-widgets/base",
            "_model_module_version": "1.2.0",
            "_model_name": "LayoutModel",
            "_view_count": null,
            "_view_module": "@jupyter-widgets/base",
            "_view_module_version": "1.2.0",
            "_view_name": "LayoutView",
            "align_content": null,
            "align_items": null,
            "align_self": null,
            "border": null,
            "bottom": null,
            "display": null,
            "flex": null,
            "flex_flow": null,
            "grid_area": null,
            "grid_auto_columns": null,
            "grid_auto_flow": null,
            "grid_auto_rows": null,
            "grid_column": null,
            "grid_gap": null,
            "grid_row": null,
            "grid_template_areas": null,
            "grid_template_columns": null,
            "grid_template_rows": null,
            "height": null,
            "justify_content": null,
            "justify_items": null,
            "left": null,
            "margin": null,
            "max_height": null,
            "max_width": null,
            "min_height": null,
            "min_width": null,
            "object_fit": null,
            "object_position": null,
            "order": null,
            "overflow": null,
            "overflow_x": null,
            "overflow_y": null,
            "padding": null,
            "right": null,
            "top": null,
            "visibility": null,
            "width": null
          }
        },
        "56f737e1541e44e0a6545cda15953364": {
          "model_module": "@jupyter-widgets/controls",
          "model_name": "ProgressStyleModel",
          "model_module_version": "1.5.0",
          "state": {
            "_model_module": "@jupyter-widgets/controls",
            "_model_module_version": "1.5.0",
            "_model_name": "ProgressStyleModel",
            "_view_count": null,
            "_view_module": "@jupyter-widgets/base",
            "_view_module_version": "1.2.0",
            "_view_name": "StyleView",
            "bar_color": null,
            "description_width": ""
          }
        },
        "dc4d05c0e01a4bc38a495848ac048741": {
          "model_module": "@jupyter-widgets/base",
          "model_name": "LayoutModel",
          "model_module_version": "1.2.0",
          "state": {
            "_model_module": "@jupyter-widgets/base",
            "_model_module_version": "1.2.0",
            "_model_name": "LayoutModel",
            "_view_count": null,
            "_view_module": "@jupyter-widgets/base",
            "_view_module_version": "1.2.0",
            "_view_name": "LayoutView",
            "align_content": null,
            "align_items": null,
            "align_self": null,
            "border": null,
            "bottom": null,
            "display": null,
            "flex": null,
            "flex_flow": null,
            "grid_area": null,
            "grid_auto_columns": null,
            "grid_auto_flow": null,
            "grid_auto_rows": null,
            "grid_column": null,
            "grid_gap": null,
            "grid_row": null,
            "grid_template_areas": null,
            "grid_template_columns": null,
            "grid_template_rows": null,
            "height": null,
            "justify_content": null,
            "justify_items": null,
            "left": null,
            "margin": null,
            "max_height": null,
            "max_width": null,
            "min_height": null,
            "min_width": null,
            "object_fit": null,
            "object_position": null,
            "order": null,
            "overflow": null,
            "overflow_x": null,
            "overflow_y": null,
            "padding": null,
            "right": null,
            "top": null,
            "visibility": null,
            "width": null
          }
        },
        "5e96a5a4ef544ad3ad4d8655b2ae825e": {
          "model_module": "@jupyter-widgets/controls",
          "model_name": "DescriptionStyleModel",
          "model_module_version": "1.5.0",
          "state": {
            "_model_module": "@jupyter-widgets/controls",
            "_model_module_version": "1.5.0",
            "_model_name": "DescriptionStyleModel",
            "_view_count": null,
            "_view_module": "@jupyter-widgets/base",
            "_view_module_version": "1.2.0",
            "_view_name": "StyleView",
            "description_width": ""
          }
        },
        "fe917cff53aa4315a7b9e8c101ff11d3": {
          "model_module": "@jupyter-widgets/controls",
          "model_name": "HBoxModel",
          "model_module_version": "1.5.0",
          "state": {
            "_dom_classes": [],
            "_model_module": "@jupyter-widgets/controls",
            "_model_module_version": "1.5.0",
            "_model_name": "HBoxModel",
            "_view_count": null,
            "_view_module": "@jupyter-widgets/controls",
            "_view_module_version": "1.5.0",
            "_view_name": "HBoxView",
            "box_style": "",
            "children": [
              "IPY_MODEL_42bac62d01824effb9490143ce340c00",
              "IPY_MODEL_c9266854d5f0430f826057073d459708",
              "IPY_MODEL_ba5f13cc24fc42a4a8bb0f037f630b52"
            ],
            "layout": "IPY_MODEL_b663de4699d3497cbef7704979f9b983"
          }
        },
        "42bac62d01824effb9490143ce340c00": {
          "model_module": "@jupyter-widgets/controls",
          "model_name": "HTMLModel",
          "model_module_version": "1.5.0",
          "state": {
            "_dom_classes": [],
            "_model_module": "@jupyter-widgets/controls",
            "_model_module_version": "1.5.0",
            "_model_name": "HTMLModel",
            "_view_count": null,
            "_view_module": "@jupyter-widgets/controls",
            "_view_module_version": "1.5.0",
            "_view_name": "HTMLView",
            "description": "",
            "description_tooltip": null,
            "layout": "IPY_MODEL_2b65c600fe26466090ca063e1f7f8bc5",
            "placeholder": "​",
            "style": "IPY_MODEL_5fcbeb89d72443b8990f5988d70ec09b",
            "value": "Batches: 100%"
          }
        },
        "c9266854d5f0430f826057073d459708": {
          "model_module": "@jupyter-widgets/controls",
          "model_name": "FloatProgressModel",
          "model_module_version": "1.5.0",
          "state": {
            "_dom_classes": [],
            "_model_module": "@jupyter-widgets/controls",
            "_model_module_version": "1.5.0",
            "_model_name": "FloatProgressModel",
            "_view_count": null,
            "_view_module": "@jupyter-widgets/controls",
            "_view_module_version": "1.5.0",
            "_view_name": "ProgressView",
            "bar_style": "success",
            "description": "",
            "description_tooltip": null,
            "layout": "IPY_MODEL_98d52280477e4f299e0a656200d817ce",
            "max": 1,
            "min": 0,
            "orientation": "horizontal",
            "style": "IPY_MODEL_993effb9461b4888afbae0f57722eeea",
            "value": 1
          }
        },
        "ba5f13cc24fc42a4a8bb0f037f630b52": {
          "model_module": "@jupyter-widgets/controls",
          "model_name": "HTMLModel",
          "model_module_version": "1.5.0",
          "state": {
            "_dom_classes": [],
            "_model_module": "@jupyter-widgets/controls",
            "_model_module_version": "1.5.0",
            "_model_name": "HTMLModel",
            "_view_count": null,
            "_view_module": "@jupyter-widgets/controls",
            "_view_module_version": "1.5.0",
            "_view_name": "HTMLView",
            "description": "",
            "description_tooltip": null,
            "layout": "IPY_MODEL_b1d43105c101450a842c8057b6d2a822",
            "placeholder": "​",
            "style": "IPY_MODEL_e1dedb2b8af94856a04c26442462a6fb",
            "value": " 1/1 [00:01&lt;00:00,  1.07s/it]"
          }
        },
        "b663de4699d3497cbef7704979f9b983": {
          "model_module": "@jupyter-widgets/base",
          "model_name": "LayoutModel",
          "model_module_version": "1.2.0",
          "state": {
            "_model_module": "@jupyter-widgets/base",
            "_model_module_version": "1.2.0",
            "_model_name": "LayoutModel",
            "_view_count": null,
            "_view_module": "@jupyter-widgets/base",
            "_view_module_version": "1.2.0",
            "_view_name": "LayoutView",
            "align_content": null,
            "align_items": null,
            "align_self": null,
            "border": null,
            "bottom": null,
            "display": null,
            "flex": null,
            "flex_flow": null,
            "grid_area": null,
            "grid_auto_columns": null,
            "grid_auto_flow": null,
            "grid_auto_rows": null,
            "grid_column": null,
            "grid_gap": null,
            "grid_row": null,
            "grid_template_areas": null,
            "grid_template_columns": null,
            "grid_template_rows": null,
            "height": null,
            "justify_content": null,
            "justify_items": null,
            "left": null,
            "margin": null,
            "max_height": null,
            "max_width": null,
            "min_height": null,
            "min_width": null,
            "object_fit": null,
            "object_position": null,
            "order": null,
            "overflow": null,
            "overflow_x": null,
            "overflow_y": null,
            "padding": null,
            "right": null,
            "top": null,
            "visibility": null,
            "width": null
          }
        },
        "2b65c600fe26466090ca063e1f7f8bc5": {
          "model_module": "@jupyter-widgets/base",
          "model_name": "LayoutModel",
          "model_module_version": "1.2.0",
          "state": {
            "_model_module": "@jupyter-widgets/base",
            "_model_module_version": "1.2.0",
            "_model_name": "LayoutModel",
            "_view_count": null,
            "_view_module": "@jupyter-widgets/base",
            "_view_module_version": "1.2.0",
            "_view_name": "LayoutView",
            "align_content": null,
            "align_items": null,
            "align_self": null,
            "border": null,
            "bottom": null,
            "display": null,
            "flex": null,
            "flex_flow": null,
            "grid_area": null,
            "grid_auto_columns": null,
            "grid_auto_flow": null,
            "grid_auto_rows": null,
            "grid_column": null,
            "grid_gap": null,
            "grid_row": null,
            "grid_template_areas": null,
            "grid_template_columns": null,
            "grid_template_rows": null,
            "height": null,
            "justify_content": null,
            "justify_items": null,
            "left": null,
            "margin": null,
            "max_height": null,
            "max_width": null,
            "min_height": null,
            "min_width": null,
            "object_fit": null,
            "object_position": null,
            "order": null,
            "overflow": null,
            "overflow_x": null,
            "overflow_y": null,
            "padding": null,
            "right": null,
            "top": null,
            "visibility": null,
            "width": null
          }
        },
        "5fcbeb89d72443b8990f5988d70ec09b": {
          "model_module": "@jupyter-widgets/controls",
          "model_name": "DescriptionStyleModel",
          "model_module_version": "1.5.0",
          "state": {
            "_model_module": "@jupyter-widgets/controls",
            "_model_module_version": "1.5.0",
            "_model_name": "DescriptionStyleModel",
            "_view_count": null,
            "_view_module": "@jupyter-widgets/base",
            "_view_module_version": "1.2.0",
            "_view_name": "StyleView",
            "description_width": ""
          }
        },
        "98d52280477e4f299e0a656200d817ce": {
          "model_module": "@jupyter-widgets/base",
          "model_name": "LayoutModel",
          "model_module_version": "1.2.0",
          "state": {
            "_model_module": "@jupyter-widgets/base",
            "_model_module_version": "1.2.0",
            "_model_name": "LayoutModel",
            "_view_count": null,
            "_view_module": "@jupyter-widgets/base",
            "_view_module_version": "1.2.0",
            "_view_name": "LayoutView",
            "align_content": null,
            "align_items": null,
            "align_self": null,
            "border": null,
            "bottom": null,
            "display": null,
            "flex": null,
            "flex_flow": null,
            "grid_area": null,
            "grid_auto_columns": null,
            "grid_auto_flow": null,
            "grid_auto_rows": null,
            "grid_column": null,
            "grid_gap": null,
            "grid_row": null,
            "grid_template_areas": null,
            "grid_template_columns": null,
            "grid_template_rows": null,
            "height": null,
            "justify_content": null,
            "justify_items": null,
            "left": null,
            "margin": null,
            "max_height": null,
            "max_width": null,
            "min_height": null,
            "min_width": null,
            "object_fit": null,
            "object_position": null,
            "order": null,
            "overflow": null,
            "overflow_x": null,
            "overflow_y": null,
            "padding": null,
            "right": null,
            "top": null,
            "visibility": null,
            "width": null
          }
        },
        "993effb9461b4888afbae0f57722eeea": {
          "model_module": "@jupyter-widgets/controls",
          "model_name": "ProgressStyleModel",
          "model_module_version": "1.5.0",
          "state": {
            "_model_module": "@jupyter-widgets/controls",
            "_model_module_version": "1.5.0",
            "_model_name": "ProgressStyleModel",
            "_view_count": null,
            "_view_module": "@jupyter-widgets/base",
            "_view_module_version": "1.2.0",
            "_view_name": "StyleView",
            "bar_color": null,
            "description_width": ""
          }
        },
        "b1d43105c101450a842c8057b6d2a822": {
          "model_module": "@jupyter-widgets/base",
          "model_name": "LayoutModel",
          "model_module_version": "1.2.0",
          "state": {
            "_model_module": "@jupyter-widgets/base",
            "_model_module_version": "1.2.0",
            "_model_name": "LayoutModel",
            "_view_count": null,
            "_view_module": "@jupyter-widgets/base",
            "_view_module_version": "1.2.0",
            "_view_name": "LayoutView",
            "align_content": null,
            "align_items": null,
            "align_self": null,
            "border": null,
            "bottom": null,
            "display": null,
            "flex": null,
            "flex_flow": null,
            "grid_area": null,
            "grid_auto_columns": null,
            "grid_auto_flow": null,
            "grid_auto_rows": null,
            "grid_column": null,
            "grid_gap": null,
            "grid_row": null,
            "grid_template_areas": null,
            "grid_template_columns": null,
            "grid_template_rows": null,
            "height": null,
            "justify_content": null,
            "justify_items": null,
            "left": null,
            "margin": null,
            "max_height": null,
            "max_width": null,
            "min_height": null,
            "min_width": null,
            "object_fit": null,
            "object_position": null,
            "order": null,
            "overflow": null,
            "overflow_x": null,
            "overflow_y": null,
            "padding": null,
            "right": null,
            "top": null,
            "visibility": null,
            "width": null
          }
        },
        "e1dedb2b8af94856a04c26442462a6fb": {
          "model_module": "@jupyter-widgets/controls",
          "model_name": "DescriptionStyleModel",
          "model_module_version": "1.5.0",
          "state": {
            "_model_module": "@jupyter-widgets/controls",
            "_model_module_version": "1.5.0",
            "_model_name": "DescriptionStyleModel",
            "_view_count": null,
            "_view_module": "@jupyter-widgets/base",
            "_view_module_version": "1.2.0",
            "_view_name": "StyleView",
            "description_width": ""
          }
        },
        "215567b15eed4946ba68b6ab844fc62b": {
          "model_module": "@jupyter-widgets/controls",
          "model_name": "HBoxModel",
          "model_module_version": "1.5.0",
          "state": {
            "_dom_classes": [],
            "_model_module": "@jupyter-widgets/controls",
            "_model_module_version": "1.5.0",
            "_model_name": "HBoxModel",
            "_view_count": null,
            "_view_module": "@jupyter-widgets/controls",
            "_view_module_version": "1.5.0",
            "_view_name": "HBoxView",
            "box_style": "",
            "children": [
              "IPY_MODEL_1535ecb1f1b947098558540bc0ee011a",
              "IPY_MODEL_6ee19a90573d4569902efc12a369439e",
              "IPY_MODEL_336154cd8cbc44e687d6a9acb95cb55a"
            ],
            "layout": "IPY_MODEL_ab932b784b604973976aaf6447ef5118"
          }
        },
        "1535ecb1f1b947098558540bc0ee011a": {
          "model_module": "@jupyter-widgets/controls",
          "model_name": "HTMLModel",
          "model_module_version": "1.5.0",
          "state": {
            "_dom_classes": [],
            "_model_module": "@jupyter-widgets/controls",
            "_model_module_version": "1.5.0",
            "_model_name": "HTMLModel",
            "_view_count": null,
            "_view_module": "@jupyter-widgets/controls",
            "_view_module_version": "1.5.0",
            "_view_name": "HTMLView",
            "description": "",
            "description_tooltip": null,
            "layout": "IPY_MODEL_d1865977df78414999b1a3c74504111c",
            "placeholder": "​",
            "style": "IPY_MODEL_c2a65363012541fdabcb4a4c76fbf4cd",
            "value": "Batches: 100%"
          }
        },
        "6ee19a90573d4569902efc12a369439e": {
          "model_module": "@jupyter-widgets/controls",
          "model_name": "FloatProgressModel",
          "model_module_version": "1.5.0",
          "state": {
            "_dom_classes": [],
            "_model_module": "@jupyter-widgets/controls",
            "_model_module_version": "1.5.0",
            "_model_name": "FloatProgressModel",
            "_view_count": null,
            "_view_module": "@jupyter-widgets/controls",
            "_view_module_version": "1.5.0",
            "_view_name": "ProgressView",
            "bar_style": "success",
            "description": "",
            "description_tooltip": null,
            "layout": "IPY_MODEL_9acfb9e3f1bc4226967e73d5b690588b",
            "max": 29,
            "min": 0,
            "orientation": "horizontal",
            "style": "IPY_MODEL_9c648ebde0e44bc49ecae08eb343bed9",
            "value": 29
          }
        },
        "336154cd8cbc44e687d6a9acb95cb55a": {
          "model_module": "@jupyter-widgets/controls",
          "model_name": "HTMLModel",
          "model_module_version": "1.5.0",
          "state": {
            "_dom_classes": [],
            "_model_module": "@jupyter-widgets/controls",
            "_model_module_version": "1.5.0",
            "_model_name": "HTMLModel",
            "_view_count": null,
            "_view_module": "@jupyter-widgets/controls",
            "_view_module_version": "1.5.0",
            "_view_name": "HTMLView",
            "description": "",
            "description_tooltip": null,
            "layout": "IPY_MODEL_47d1e8cc51f447dd823f7059af47643a",
            "placeholder": "​",
            "style": "IPY_MODEL_7efddcd614df49aca87af2815d03beac",
            "value": " 29/29 [00:00&lt;00:00, 50.93it/s]"
          }
        },
        "ab932b784b604973976aaf6447ef5118": {
          "model_module": "@jupyter-widgets/base",
          "model_name": "LayoutModel",
          "model_module_version": "1.2.0",
          "state": {
            "_model_module": "@jupyter-widgets/base",
            "_model_module_version": "1.2.0",
            "_model_name": "LayoutModel",
            "_view_count": null,
            "_view_module": "@jupyter-widgets/base",
            "_view_module_version": "1.2.0",
            "_view_name": "LayoutView",
            "align_content": null,
            "align_items": null,
            "align_self": null,
            "border": null,
            "bottom": null,
            "display": null,
            "flex": null,
            "flex_flow": null,
            "grid_area": null,
            "grid_auto_columns": null,
            "grid_auto_flow": null,
            "grid_auto_rows": null,
            "grid_column": null,
            "grid_gap": null,
            "grid_row": null,
            "grid_template_areas": null,
            "grid_template_columns": null,
            "grid_template_rows": null,
            "height": null,
            "justify_content": null,
            "justify_items": null,
            "left": null,
            "margin": null,
            "max_height": null,
            "max_width": null,
            "min_height": null,
            "min_width": null,
            "object_fit": null,
            "object_position": null,
            "order": null,
            "overflow": null,
            "overflow_x": null,
            "overflow_y": null,
            "padding": null,
            "right": null,
            "top": null,
            "visibility": null,
            "width": null
          }
        },
        "d1865977df78414999b1a3c74504111c": {
          "model_module": "@jupyter-widgets/base",
          "model_name": "LayoutModel",
          "model_module_version": "1.2.0",
          "state": {
            "_model_module": "@jupyter-widgets/base",
            "_model_module_version": "1.2.0",
            "_model_name": "LayoutModel",
            "_view_count": null,
            "_view_module": "@jupyter-widgets/base",
            "_view_module_version": "1.2.0",
            "_view_name": "LayoutView",
            "align_content": null,
            "align_items": null,
            "align_self": null,
            "border": null,
            "bottom": null,
            "display": null,
            "flex": null,
            "flex_flow": null,
            "grid_area": null,
            "grid_auto_columns": null,
            "grid_auto_flow": null,
            "grid_auto_rows": null,
            "grid_column": null,
            "grid_gap": null,
            "grid_row": null,
            "grid_template_areas": null,
            "grid_template_columns": null,
            "grid_template_rows": null,
            "height": null,
            "justify_content": null,
            "justify_items": null,
            "left": null,
            "margin": null,
            "max_height": null,
            "max_width": null,
            "min_height": null,
            "min_width": null,
            "object_fit": null,
            "object_position": null,
            "order": null,
            "overflow": null,
            "overflow_x": null,
            "overflow_y": null,
            "padding": null,
            "right": null,
            "top": null,
            "visibility": null,
            "width": null
          }
        },
        "c2a65363012541fdabcb4a4c76fbf4cd": {
          "model_module": "@jupyter-widgets/controls",
          "model_name": "DescriptionStyleModel",
          "model_module_version": "1.5.0",
          "state": {
            "_model_module": "@jupyter-widgets/controls",
            "_model_module_version": "1.5.0",
            "_model_name": "DescriptionStyleModel",
            "_view_count": null,
            "_view_module": "@jupyter-widgets/base",
            "_view_module_version": "1.2.0",
            "_view_name": "StyleView",
            "description_width": ""
          }
        },
        "9acfb9e3f1bc4226967e73d5b690588b": {
          "model_module": "@jupyter-widgets/base",
          "model_name": "LayoutModel",
          "model_module_version": "1.2.0",
          "state": {
            "_model_module": "@jupyter-widgets/base",
            "_model_module_version": "1.2.0",
            "_model_name": "LayoutModel",
            "_view_count": null,
            "_view_module": "@jupyter-widgets/base",
            "_view_module_version": "1.2.0",
            "_view_name": "LayoutView",
            "align_content": null,
            "align_items": null,
            "align_self": null,
            "border": null,
            "bottom": null,
            "display": null,
            "flex": null,
            "flex_flow": null,
            "grid_area": null,
            "grid_auto_columns": null,
            "grid_auto_flow": null,
            "grid_auto_rows": null,
            "grid_column": null,
            "grid_gap": null,
            "grid_row": null,
            "grid_template_areas": null,
            "grid_template_columns": null,
            "grid_template_rows": null,
            "height": null,
            "justify_content": null,
            "justify_items": null,
            "left": null,
            "margin": null,
            "max_height": null,
            "max_width": null,
            "min_height": null,
            "min_width": null,
            "object_fit": null,
            "object_position": null,
            "order": null,
            "overflow": null,
            "overflow_x": null,
            "overflow_y": null,
            "padding": null,
            "right": null,
            "top": null,
            "visibility": null,
            "width": null
          }
        },
        "9c648ebde0e44bc49ecae08eb343bed9": {
          "model_module": "@jupyter-widgets/controls",
          "model_name": "ProgressStyleModel",
          "model_module_version": "1.5.0",
          "state": {
            "_model_module": "@jupyter-widgets/controls",
            "_model_module_version": "1.5.0",
            "_model_name": "ProgressStyleModel",
            "_view_count": null,
            "_view_module": "@jupyter-widgets/base",
            "_view_module_version": "1.2.0",
            "_view_name": "StyleView",
            "bar_color": null,
            "description_width": ""
          }
        },
        "47d1e8cc51f447dd823f7059af47643a": {
          "model_module": "@jupyter-widgets/base",
          "model_name": "LayoutModel",
          "model_module_version": "1.2.0",
          "state": {
            "_model_module": "@jupyter-widgets/base",
            "_model_module_version": "1.2.0",
            "_model_name": "LayoutModel",
            "_view_count": null,
            "_view_module": "@jupyter-widgets/base",
            "_view_module_version": "1.2.0",
            "_view_name": "LayoutView",
            "align_content": null,
            "align_items": null,
            "align_self": null,
            "border": null,
            "bottom": null,
            "display": null,
            "flex": null,
            "flex_flow": null,
            "grid_area": null,
            "grid_auto_columns": null,
            "grid_auto_flow": null,
            "grid_auto_rows": null,
            "grid_column": null,
            "grid_gap": null,
            "grid_row": null,
            "grid_template_areas": null,
            "grid_template_columns": null,
            "grid_template_rows": null,
            "height": null,
            "justify_content": null,
            "justify_items": null,
            "left": null,
            "margin": null,
            "max_height": null,
            "max_width": null,
            "min_height": null,
            "min_width": null,
            "object_fit": null,
            "object_position": null,
            "order": null,
            "overflow": null,
            "overflow_x": null,
            "overflow_y": null,
            "padding": null,
            "right": null,
            "top": null,
            "visibility": null,
            "width": null
          }
        },
        "7efddcd614df49aca87af2815d03beac": {
          "model_module": "@jupyter-widgets/controls",
          "model_name": "DescriptionStyleModel",
          "model_module_version": "1.5.0",
          "state": {
            "_model_module": "@jupyter-widgets/controls",
            "_model_module_version": "1.5.0",
            "_model_name": "DescriptionStyleModel",
            "_view_count": null,
            "_view_module": "@jupyter-widgets/base",
            "_view_module_version": "1.2.0",
            "_view_name": "StyleView",
            "description_width": ""
          }
        },
        "3d8ea83aa33848d9b344f2b176c5d94d": {
          "model_module": "@jupyter-widgets/controls",
          "model_name": "HBoxModel",
          "model_module_version": "1.5.0",
          "state": {
            "_dom_classes": [],
            "_model_module": "@jupyter-widgets/controls",
            "_model_module_version": "1.5.0",
            "_model_name": "HBoxModel",
            "_view_count": null,
            "_view_module": "@jupyter-widgets/controls",
            "_view_module_version": "1.5.0",
            "_view_name": "HBoxView",
            "box_style": "",
            "children": [
              "IPY_MODEL_fa01e22c9072466bbc008fbde53fa992",
              "IPY_MODEL_280adb216d6249e5a992959119f0252d",
              "IPY_MODEL_dc8362258e164cfcbf2d068da3b3a51b"
            ],
            "layout": "IPY_MODEL_a1669b4ad15e40de9a2cd584882ae849"
          }
        },
        "fa01e22c9072466bbc008fbde53fa992": {
          "model_module": "@jupyter-widgets/controls",
          "model_name": "HTMLModel",
          "model_module_version": "1.5.0",
          "state": {
            "_dom_classes": [],
            "_model_module": "@jupyter-widgets/controls",
            "_model_module_version": "1.5.0",
            "_model_name": "HTMLModel",
            "_view_count": null,
            "_view_module": "@jupyter-widgets/controls",
            "_view_module_version": "1.5.0",
            "_view_name": "HTMLView",
            "description": "",
            "description_tooltip": null,
            "layout": "IPY_MODEL_ad036e1bcfcd4c178091ba092274588e",
            "placeholder": "​",
            "style": "IPY_MODEL_53b0a821b24941f1b05ebc7c2d0fffdd",
            "value": "Batches: 100%"
          }
        },
        "280adb216d6249e5a992959119f0252d": {
          "model_module": "@jupyter-widgets/controls",
          "model_name": "FloatProgressModel",
          "model_module_version": "1.5.0",
          "state": {
            "_dom_classes": [],
            "_model_module": "@jupyter-widgets/controls",
            "_model_module_version": "1.5.0",
            "_model_name": "FloatProgressModel",
            "_view_count": null,
            "_view_module": "@jupyter-widgets/controls",
            "_view_module_version": "1.5.0",
            "_view_name": "ProgressView",
            "bar_style": "success",
            "description": "",
            "description_tooltip": null,
            "layout": "IPY_MODEL_238ccdd409a34c9dba570c8f41cc5570",
            "max": 1,
            "min": 0,
            "orientation": "horizontal",
            "style": "IPY_MODEL_78369c16a3c34fbe94409b09236bbc08",
            "value": 1
          }
        },
        "dc8362258e164cfcbf2d068da3b3a51b": {
          "model_module": "@jupyter-widgets/controls",
          "model_name": "HTMLModel",
          "model_module_version": "1.5.0",
          "state": {
            "_dom_classes": [],
            "_model_module": "@jupyter-widgets/controls",
            "_model_module_version": "1.5.0",
            "_model_name": "HTMLModel",
            "_view_count": null,
            "_view_module": "@jupyter-widgets/controls",
            "_view_module_version": "1.5.0",
            "_view_name": "HTMLView",
            "description": "",
            "description_tooltip": null,
            "layout": "IPY_MODEL_5e3ea90018d54135bebd22fb0d5d4020",
            "placeholder": "​",
            "style": "IPY_MODEL_52882fdf22db478495f14fa380bcf4e1",
            "value": " 1/1 [00:00&lt;00:00, 40.85it/s]"
          }
        },
        "a1669b4ad15e40de9a2cd584882ae849": {
          "model_module": "@jupyter-widgets/base",
          "model_name": "LayoutModel",
          "model_module_version": "1.2.0",
          "state": {
            "_model_module": "@jupyter-widgets/base",
            "_model_module_version": "1.2.0",
            "_model_name": "LayoutModel",
            "_view_count": null,
            "_view_module": "@jupyter-widgets/base",
            "_view_module_version": "1.2.0",
            "_view_name": "LayoutView",
            "align_content": null,
            "align_items": null,
            "align_self": null,
            "border": null,
            "bottom": null,
            "display": null,
            "flex": null,
            "flex_flow": null,
            "grid_area": null,
            "grid_auto_columns": null,
            "grid_auto_flow": null,
            "grid_auto_rows": null,
            "grid_column": null,
            "grid_gap": null,
            "grid_row": null,
            "grid_template_areas": null,
            "grid_template_columns": null,
            "grid_template_rows": null,
            "height": null,
            "justify_content": null,
            "justify_items": null,
            "left": null,
            "margin": null,
            "max_height": null,
            "max_width": null,
            "min_height": null,
            "min_width": null,
            "object_fit": null,
            "object_position": null,
            "order": null,
            "overflow": null,
            "overflow_x": null,
            "overflow_y": null,
            "padding": null,
            "right": null,
            "top": null,
            "visibility": null,
            "width": null
          }
        },
        "ad036e1bcfcd4c178091ba092274588e": {
          "model_module": "@jupyter-widgets/base",
          "model_name": "LayoutModel",
          "model_module_version": "1.2.0",
          "state": {
            "_model_module": "@jupyter-widgets/base",
            "_model_module_version": "1.2.0",
            "_model_name": "LayoutModel",
            "_view_count": null,
            "_view_module": "@jupyter-widgets/base",
            "_view_module_version": "1.2.0",
            "_view_name": "LayoutView",
            "align_content": null,
            "align_items": null,
            "align_self": null,
            "border": null,
            "bottom": null,
            "display": null,
            "flex": null,
            "flex_flow": null,
            "grid_area": null,
            "grid_auto_columns": null,
            "grid_auto_flow": null,
            "grid_auto_rows": null,
            "grid_column": null,
            "grid_gap": null,
            "grid_row": null,
            "grid_template_areas": null,
            "grid_template_columns": null,
            "grid_template_rows": null,
            "height": null,
            "justify_content": null,
            "justify_items": null,
            "left": null,
            "margin": null,
            "max_height": null,
            "max_width": null,
            "min_height": null,
            "min_width": null,
            "object_fit": null,
            "object_position": null,
            "order": null,
            "overflow": null,
            "overflow_x": null,
            "overflow_y": null,
            "padding": null,
            "right": null,
            "top": null,
            "visibility": null,
            "width": null
          }
        },
        "53b0a821b24941f1b05ebc7c2d0fffdd": {
          "model_module": "@jupyter-widgets/controls",
          "model_name": "DescriptionStyleModel",
          "model_module_version": "1.5.0",
          "state": {
            "_model_module": "@jupyter-widgets/controls",
            "_model_module_version": "1.5.0",
            "_model_name": "DescriptionStyleModel",
            "_view_count": null,
            "_view_module": "@jupyter-widgets/base",
            "_view_module_version": "1.2.0",
            "_view_name": "StyleView",
            "description_width": ""
          }
        },
        "238ccdd409a34c9dba570c8f41cc5570": {
          "model_module": "@jupyter-widgets/base",
          "model_name": "LayoutModel",
          "model_module_version": "1.2.0",
          "state": {
            "_model_module": "@jupyter-widgets/base",
            "_model_module_version": "1.2.0",
            "_model_name": "LayoutModel",
            "_view_count": null,
            "_view_module": "@jupyter-widgets/base",
            "_view_module_version": "1.2.0",
            "_view_name": "LayoutView",
            "align_content": null,
            "align_items": null,
            "align_self": null,
            "border": null,
            "bottom": null,
            "display": null,
            "flex": null,
            "flex_flow": null,
            "grid_area": null,
            "grid_auto_columns": null,
            "grid_auto_flow": null,
            "grid_auto_rows": null,
            "grid_column": null,
            "grid_gap": null,
            "grid_row": null,
            "grid_template_areas": null,
            "grid_template_columns": null,
            "grid_template_rows": null,
            "height": null,
            "justify_content": null,
            "justify_items": null,
            "left": null,
            "margin": null,
            "max_height": null,
            "max_width": null,
            "min_height": null,
            "min_width": null,
            "object_fit": null,
            "object_position": null,
            "order": null,
            "overflow": null,
            "overflow_x": null,
            "overflow_y": null,
            "padding": null,
            "right": null,
            "top": null,
            "visibility": null,
            "width": null
          }
        },
        "78369c16a3c34fbe94409b09236bbc08": {
          "model_module": "@jupyter-widgets/controls",
          "model_name": "ProgressStyleModel",
          "model_module_version": "1.5.0",
          "state": {
            "_model_module": "@jupyter-widgets/controls",
            "_model_module_version": "1.5.0",
            "_model_name": "ProgressStyleModel",
            "_view_count": null,
            "_view_module": "@jupyter-widgets/base",
            "_view_module_version": "1.2.0",
            "_view_name": "StyleView",
            "bar_color": null,
            "description_width": ""
          }
        },
        "5e3ea90018d54135bebd22fb0d5d4020": {
          "model_module": "@jupyter-widgets/base",
          "model_name": "LayoutModel",
          "model_module_version": "1.2.0",
          "state": {
            "_model_module": "@jupyter-widgets/base",
            "_model_module_version": "1.2.0",
            "_model_name": "LayoutModel",
            "_view_count": null,
            "_view_module": "@jupyter-widgets/base",
            "_view_module_version": "1.2.0",
            "_view_name": "LayoutView",
            "align_content": null,
            "align_items": null,
            "align_self": null,
            "border": null,
            "bottom": null,
            "display": null,
            "flex": null,
            "flex_flow": null,
            "grid_area": null,
            "grid_auto_columns": null,
            "grid_auto_flow": null,
            "grid_auto_rows": null,
            "grid_column": null,
            "grid_gap": null,
            "grid_row": null,
            "grid_template_areas": null,
            "grid_template_columns": null,
            "grid_template_rows": null,
            "height": null,
            "justify_content": null,
            "justify_items": null,
            "left": null,
            "margin": null,
            "max_height": null,
            "max_width": null,
            "min_height": null,
            "min_width": null,
            "object_fit": null,
            "object_position": null,
            "order": null,
            "overflow": null,
            "overflow_x": null,
            "overflow_y": null,
            "padding": null,
            "right": null,
            "top": null,
            "visibility": null,
            "width": null
          }
        },
        "52882fdf22db478495f14fa380bcf4e1": {
          "model_module": "@jupyter-widgets/controls",
          "model_name": "DescriptionStyleModel",
          "model_module_version": "1.5.0",
          "state": {
            "_model_module": "@jupyter-widgets/controls",
            "_model_module_version": "1.5.0",
            "_model_name": "DescriptionStyleModel",
            "_view_count": null,
            "_view_module": "@jupyter-widgets/base",
            "_view_module_version": "1.2.0",
            "_view_name": "StyleView",
            "description_width": ""
          }
        },
        "25aa6405fb014768a0aded1933d9ebae": {
          "model_module": "@jupyter-widgets/controls",
          "model_name": "HBoxModel",
          "model_module_version": "1.5.0",
          "state": {
            "_dom_classes": [],
            "_model_module": "@jupyter-widgets/controls",
            "_model_module_version": "1.5.0",
            "_model_name": "HBoxModel",
            "_view_count": null,
            "_view_module": "@jupyter-widgets/controls",
            "_view_module_version": "1.5.0",
            "_view_name": "HBoxView",
            "box_style": "",
            "children": [
              "IPY_MODEL_7253f068c4d54528a985262053cb85b3",
              "IPY_MODEL_66ece02df8c6464e8283bdf4b9937c52",
              "IPY_MODEL_5404efdf367e47cbb5845ff4276e63aa"
            ],
            "layout": "IPY_MODEL_9f8f3068fbd94ff6a993e939ccfa2bc2"
          }
        },
        "7253f068c4d54528a985262053cb85b3": {
          "model_module": "@jupyter-widgets/controls",
          "model_name": "HTMLModel",
          "model_module_version": "1.5.0",
          "state": {
            "_dom_classes": [],
            "_model_module": "@jupyter-widgets/controls",
            "_model_module_version": "1.5.0",
            "_model_name": "HTMLModel",
            "_view_count": null,
            "_view_module": "@jupyter-widgets/controls",
            "_view_module_version": "1.5.0",
            "_view_name": "HTMLView",
            "description": "",
            "description_tooltip": null,
            "layout": "IPY_MODEL_a16be5e9c0434cb9801be135ecf50e2a",
            "placeholder": "​",
            "style": "IPY_MODEL_9a523104b9774a07800b522a027260cf",
            "value": "Batches: 100%"
          }
        },
        "66ece02df8c6464e8283bdf4b9937c52": {
          "model_module": "@jupyter-widgets/controls",
          "model_name": "FloatProgressModel",
          "model_module_version": "1.5.0",
          "state": {
            "_dom_classes": [],
            "_model_module": "@jupyter-widgets/controls",
            "_model_module_version": "1.5.0",
            "_model_name": "FloatProgressModel",
            "_view_count": null,
            "_view_module": "@jupyter-widgets/controls",
            "_view_module_version": "1.5.0",
            "_view_name": "ProgressView",
            "bar_style": "success",
            "description": "",
            "description_tooltip": null,
            "layout": "IPY_MODEL_8219b08c25ff4eab944a8889d5b6cfb5",
            "max": 1,
            "min": 0,
            "orientation": "horizontal",
            "style": "IPY_MODEL_2b2245db84ab4b92940a91d440022430",
            "value": 1
          }
        },
        "5404efdf367e47cbb5845ff4276e63aa": {
          "model_module": "@jupyter-widgets/controls",
          "model_name": "HTMLModel",
          "model_module_version": "1.5.0",
          "state": {
            "_dom_classes": [],
            "_model_module": "@jupyter-widgets/controls",
            "_model_module_version": "1.5.0",
            "_model_name": "HTMLModel",
            "_view_count": null,
            "_view_module": "@jupyter-widgets/controls",
            "_view_module_version": "1.5.0",
            "_view_name": "HTMLView",
            "description": "",
            "description_tooltip": null,
            "layout": "IPY_MODEL_e11af2d6571542ebbfae9b682dd55ab8",
            "placeholder": "​",
            "style": "IPY_MODEL_a620bdcd2e3d487986e26393da39d404",
            "value": " 1/1 [00:00&lt;00:00, 24.79it/s]"
          }
        },
        "9f8f3068fbd94ff6a993e939ccfa2bc2": {
          "model_module": "@jupyter-widgets/base",
          "model_name": "LayoutModel",
          "model_module_version": "1.2.0",
          "state": {
            "_model_module": "@jupyter-widgets/base",
            "_model_module_version": "1.2.0",
            "_model_name": "LayoutModel",
            "_view_count": null,
            "_view_module": "@jupyter-widgets/base",
            "_view_module_version": "1.2.0",
            "_view_name": "LayoutView",
            "align_content": null,
            "align_items": null,
            "align_self": null,
            "border": null,
            "bottom": null,
            "display": null,
            "flex": null,
            "flex_flow": null,
            "grid_area": null,
            "grid_auto_columns": null,
            "grid_auto_flow": null,
            "grid_auto_rows": null,
            "grid_column": null,
            "grid_gap": null,
            "grid_row": null,
            "grid_template_areas": null,
            "grid_template_columns": null,
            "grid_template_rows": null,
            "height": null,
            "justify_content": null,
            "justify_items": null,
            "left": null,
            "margin": null,
            "max_height": null,
            "max_width": null,
            "min_height": null,
            "min_width": null,
            "object_fit": null,
            "object_position": null,
            "order": null,
            "overflow": null,
            "overflow_x": null,
            "overflow_y": null,
            "padding": null,
            "right": null,
            "top": null,
            "visibility": null,
            "width": null
          }
        },
        "a16be5e9c0434cb9801be135ecf50e2a": {
          "model_module": "@jupyter-widgets/base",
          "model_name": "LayoutModel",
          "model_module_version": "1.2.0",
          "state": {
            "_model_module": "@jupyter-widgets/base",
            "_model_module_version": "1.2.0",
            "_model_name": "LayoutModel",
            "_view_count": null,
            "_view_module": "@jupyter-widgets/base",
            "_view_module_version": "1.2.0",
            "_view_name": "LayoutView",
            "align_content": null,
            "align_items": null,
            "align_self": null,
            "border": null,
            "bottom": null,
            "display": null,
            "flex": null,
            "flex_flow": null,
            "grid_area": null,
            "grid_auto_columns": null,
            "grid_auto_flow": null,
            "grid_auto_rows": null,
            "grid_column": null,
            "grid_gap": null,
            "grid_row": null,
            "grid_template_areas": null,
            "grid_template_columns": null,
            "grid_template_rows": null,
            "height": null,
            "justify_content": null,
            "justify_items": null,
            "left": null,
            "margin": null,
            "max_height": null,
            "max_width": null,
            "min_height": null,
            "min_width": null,
            "object_fit": null,
            "object_position": null,
            "order": null,
            "overflow": null,
            "overflow_x": null,
            "overflow_y": null,
            "padding": null,
            "right": null,
            "top": null,
            "visibility": null,
            "width": null
          }
        },
        "9a523104b9774a07800b522a027260cf": {
          "model_module": "@jupyter-widgets/controls",
          "model_name": "DescriptionStyleModel",
          "model_module_version": "1.5.0",
          "state": {
            "_model_module": "@jupyter-widgets/controls",
            "_model_module_version": "1.5.0",
            "_model_name": "DescriptionStyleModel",
            "_view_count": null,
            "_view_module": "@jupyter-widgets/base",
            "_view_module_version": "1.2.0",
            "_view_name": "StyleView",
            "description_width": ""
          }
        },
        "8219b08c25ff4eab944a8889d5b6cfb5": {
          "model_module": "@jupyter-widgets/base",
          "model_name": "LayoutModel",
          "model_module_version": "1.2.0",
          "state": {
            "_model_module": "@jupyter-widgets/base",
            "_model_module_version": "1.2.0",
            "_model_name": "LayoutModel",
            "_view_count": null,
            "_view_module": "@jupyter-widgets/base",
            "_view_module_version": "1.2.0",
            "_view_name": "LayoutView",
            "align_content": null,
            "align_items": null,
            "align_self": null,
            "border": null,
            "bottom": null,
            "display": null,
            "flex": null,
            "flex_flow": null,
            "grid_area": null,
            "grid_auto_columns": null,
            "grid_auto_flow": null,
            "grid_auto_rows": null,
            "grid_column": null,
            "grid_gap": null,
            "grid_row": null,
            "grid_template_areas": null,
            "grid_template_columns": null,
            "grid_template_rows": null,
            "height": null,
            "justify_content": null,
            "justify_items": null,
            "left": null,
            "margin": null,
            "max_height": null,
            "max_width": null,
            "min_height": null,
            "min_width": null,
            "object_fit": null,
            "object_position": null,
            "order": null,
            "overflow": null,
            "overflow_x": null,
            "overflow_y": null,
            "padding": null,
            "right": null,
            "top": null,
            "visibility": null,
            "width": null
          }
        },
        "2b2245db84ab4b92940a91d440022430": {
          "model_module": "@jupyter-widgets/controls",
          "model_name": "ProgressStyleModel",
          "model_module_version": "1.5.0",
          "state": {
            "_model_module": "@jupyter-widgets/controls",
            "_model_module_version": "1.5.0",
            "_model_name": "ProgressStyleModel",
            "_view_count": null,
            "_view_module": "@jupyter-widgets/base",
            "_view_module_version": "1.2.0",
            "_view_name": "StyleView",
            "bar_color": null,
            "description_width": ""
          }
        },
        "e11af2d6571542ebbfae9b682dd55ab8": {
          "model_module": "@jupyter-widgets/base",
          "model_name": "LayoutModel",
          "model_module_version": "1.2.0",
          "state": {
            "_model_module": "@jupyter-widgets/base",
            "_model_module_version": "1.2.0",
            "_model_name": "LayoutModel",
            "_view_count": null,
            "_view_module": "@jupyter-widgets/base",
            "_view_module_version": "1.2.0",
            "_view_name": "LayoutView",
            "align_content": null,
            "align_items": null,
            "align_self": null,
            "border": null,
            "bottom": null,
            "display": null,
            "flex": null,
            "flex_flow": null,
            "grid_area": null,
            "grid_auto_columns": null,
            "grid_auto_flow": null,
            "grid_auto_rows": null,
            "grid_column": null,
            "grid_gap": null,
            "grid_row": null,
            "grid_template_areas": null,
            "grid_template_columns": null,
            "grid_template_rows": null,
            "height": null,
            "justify_content": null,
            "justify_items": null,
            "left": null,
            "margin": null,
            "max_height": null,
            "max_width": null,
            "min_height": null,
            "min_width": null,
            "object_fit": null,
            "object_position": null,
            "order": null,
            "overflow": null,
            "overflow_x": null,
            "overflow_y": null,
            "padding": null,
            "right": null,
            "top": null,
            "visibility": null,
            "width": null
          }
        },
        "a620bdcd2e3d487986e26393da39d404": {
          "model_module": "@jupyter-widgets/controls",
          "model_name": "DescriptionStyleModel",
          "model_module_version": "1.5.0",
          "state": {
            "_model_module": "@jupyter-widgets/controls",
            "_model_module_version": "1.5.0",
            "_model_name": "DescriptionStyleModel",
            "_view_count": null,
            "_view_module": "@jupyter-widgets/base",
            "_view_module_version": "1.2.0",
            "_view_name": "StyleView",
            "description_width": ""
          }
        }
      }
    }
  },
  "nbformat": 4,
  "nbformat_minor": 0
}